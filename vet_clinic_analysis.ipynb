{
 "cells": [
  {
   "cell_type": "markdown",
   "metadata": {},
   "source": [
    "# Identifying low-performing analyses at a veterinary clinic\n",
    "\n",
    "<p><div class=\"toc\"><ul class=\"toc-item\"><li><span><a href=\"#Identifying-low-performing-analyses-at-a-veterinary-clinic\" data-toc-modified-id=\"Identifying-low-performing-analyses-at-a-veterinary-clinic-1\">Identifying low-performing analyses at a veterinary clinic</a></span><ul class=\"toc-item\"><li><span><a href=\"#Introduction\" data-toc-modified-id=\"Introduction-1.1\">Introduction</a></span><ul class=\"toc-item\"><li><span><a href=\"#Data-description\" data-toc-modified-id=\"Data-description-1.1.1\">Data description</a></span></li></ul></li><li><span><a href=\"#Data-cleaning\" data-toc-modified-id=\"Data-cleaning-1.2\">Data cleaning</a></span><ul class=\"toc-item\"><li><span><a href=\"#invoices\" data-toc-modified-id=\"invoices-1.2.1\"><code>invoices</code></a></span></li><li><span><a href=\"#info_analyses\" data-toc-modified-id=\"info_analyses-1.2.2\"><code>info_analyses</code></a></span></li><li><span><a href=\"#materials_ema\" data-toc-modified-id=\"materials_ema-1.2.3\"><code>materials_ema</code></a></span></li><li><span><a href=\"#info_materials\" data-toc-modified-id=\"info_materials-1.2.4\"><code>info_materials</code></a></span></li><li><span><a href=\"#Data-validation:-materials_ema-and-info_materials\" data-toc-modified-id=\"Data-validation:-materials_ema-and-info_materials-1.2.5\">Data validation: <code>materials_ema</code> and <code>info_materials</code></a></span></li><li><span><a href=\"#info_ema\" data-toc-modified-id=\"info_ema-1.2.6\"><code>info_ema</code></a></span></li><li><span><a href=\"#info_vetmed\" data-toc-modified-id=\"info_vetmed-1.2.7\"><code>info_vetmed</code></a></span></li><li><span><a href=\"#info_est\" data-toc-modified-id=\"info_est-1.2.8\"><code>info_est</code></a></span></li></ul></li><li><span><a href=\"#Data-analysis\" data-toc-modified-id=\"Data-analysis-1.3\">Data analysis</a></span><ul class=\"toc-item\"><li><span><a href=\"#Calculation-of-profit-margin-for-each-device\" data-toc-modified-id=\"Calculation-of-profit-margin-for-each-device-1.3.1\">Calculation of profit margin for each device</a></span><ul class=\"toc-item\"><li><span><a href=\"#Results\" data-toc-modified-id=\"Results-1.3.1.1\">Results</a></span></li><li><span><a href=\"#Graphical-representation\" data-toc-modified-id=\"Graphical-representation-1.3.1.2\">Graphical representation</a></span></li><li><span><a href=\"#Number-of-different-analyses-ran-by-each-device\" data-toc-modified-id=\"Number-of-different-analyses-ran-by-each-device-1.3.1.3\">Number of different analyses ran by each device</a></span></li></ul></li><li><span><a href=\"#Total-profits-for-all-devices\" data-toc-modified-id=\"Total-profits-for-all-devices-1.3.2\">Total profits for all devices</a></span><ul class=\"toc-item\"><li><span><a href=\"#Results\" data-toc-modified-id=\"Results-1.3.2.1\">Results</a></span></li></ul></li><li><span><a href=\"#Average-minimal-cost-of-analyses\" data-toc-modified-id=\"Average-minimal-cost-of-analyses-1.3.3\">Average minimal cost of analyses</a></span><ul class=\"toc-item\"><li><span><a href=\"#Results\" data-toc-modified-id=\"Results-1.3.3.1\">Results</a></span></li><li><span><a href=\"#Graphical-representation\" data-toc-modified-id=\"Graphical-representation-1.3.3.2\">Graphical representation</a></span></li></ul></li></ul></li><li><span><a href=\"#Conclusion\" data-toc-modified-id=\"Conclusion-1.4\">Conclusion</a></span></li></ul></li></ul></div>"
   ]
  },
  {
   "cell_type": "markdown",
   "metadata": {},
   "source": [
    "## Introduction\n",
    "\n",
    "Most veterinary clinics routinely run a wide range of analyses for their clients, such as blood counts, microbial swabs, or biochemical profiles. These tests require dedicated materials, which need to be regularly purchased, as well as a variety of devices, which require specialised maintenance. With many tests being run every week, it is easy to lose track of whether the cost of materials and maintenance is being sufficiently offset by the proceeds of these analyses. This information could be used by the veterinary clinic to evaluate whether the price or frequency of certain analyses needs to be adjusted, or whether it would be more cost-effective to outsource low-performing analyses to external laboratories.\n",
    "\n",
    "### Data description\n",
    "\n",
    "The data was sourced from a private veterinary clinic in Southern Italy, in the Naples region, and while the data spans multiple years, this study focuses only on 2018. The data was distributed among a variety of different files:\n",
    "\n",
    "- `invoices`, a .dbf file produced automatically by the clinic management software, containing the invoices issued during the entire year. The file was converted to a .csv before being imported.\n",
    "- `info_analyses`, a manually compiled .csv file sourced from the clinic manager, containing information regarding which device carries out which analyses.\n",
    "- `materials_ema`, a .xls file produced by the materials and maintenance provider. The spreadsheet was automatically compiled by the provider's website, and it contains the invoice details of all purchases of their services. The file was converted to a .csv before being imported.\n",
    "- `info_materials`, a .ods file manually compiled by the clinic manager, containing further information on the purchasing of the materials from the provider. The file was converted to a .csv before being imported.\n",
    "- `info_ema`, a manually compiled .csv file sourced from the clinic manager, containing information regarding the maintenance fees (*\"EMA\"*) for each of the IDEXX devices.\n",
    "- `info_vetmed`, a manually compiled .csv file sourced from the clinic manager, containing further information regarding the invoices issued from IDEXX for the use of their laboratories (*\"VetMed\"* service).\n",
    "- `info_est`, a .ods file manually compiled by the clinic manager, containing information on the cost of outsourcing analyses to an external laboratory (not IDEXX). The file was converted to a .csv before being imported.\n",
    "\n",
    "**Note**: the header row of some dataframes have been translated from Italian to English for easier comprehension. To prevent accidentally altering the data, the bodies of the dataframes were not translated. Feel free to contact me directly if you require further information on any of the Italian text displayed in this notebook."
   ]
  },
  {
   "cell_type": "code",
   "execution_count": 1,
   "metadata": {},
   "outputs": [],
   "source": [
    "import pandas as pd\n",
    "import datetime as dt\n",
    "import matplotlib.pyplot as plt\n",
    "import seaborn as sns\n",
    "sns.set(context='talk', style='darkgrid', rc={'figure.facecolor':'white'})\n",
    "sns.set_palette(\"hls\", 7)\n",
    "\n",
    "pd.options.mode.chained_assignment = None # ignore two false positive SettingWithCopyWarning"
   ]
  },
  {
   "cell_type": "markdown",
   "metadata": {},
   "source": [
    "## Data cleaning\n",
    "\n",
    "### `invoices`\n",
    "\n",
    "This file contains information on all the invoices issued by the clinic in 2018. The columns contain the following information:\n",
    "- **invoice_no**: the identification number of the invoice. If an invoice was issued for more than one service, those services will have the same identification number;\n",
    "- **date**: the date the invoice was issued, converted to a datetime object (yyyy/mm/dd);\n",
    "- **client**: the client identification code;\n",
    "- **qty**: the quantity of services provided;\n",
    "- **type**: the type of service provided, selected from a predefined list;\n",
    "- **service**: the specific service provided, selected from a predefined list;\n",
    "- **price**: the total price of the service(s) in EUR, without sales tax;\n",
    "- **IVA**: the sales tax, i.e. the Italian version of VAT;\n",
    "- **ENPAV**: a contribution paid to the ENPAV, an organisation responsible for providing a pension to veterinarians in Italy."
   ]
  },
  {
   "cell_type": "code",
   "execution_count": 2,
   "metadata": {},
   "outputs": [
    {
     "data": {
      "text/html": [
       "<div>\n",
       "<style scoped>\n",
       "    .dataframe tbody tr th:only-of-type {\n",
       "        vertical-align: middle;\n",
       "    }\n",
       "\n",
       "    .dataframe tbody tr th {\n",
       "        vertical-align: top;\n",
       "    }\n",
       "\n",
       "    .dataframe thead th {\n",
       "        text-align: right;\n",
       "    }\n",
       "</style>\n",
       "<table border=\"1\" class=\"dataframe\">\n",
       "  <thead>\n",
       "    <tr style=\"text-align: right;\">\n",
       "      <th></th>\n",
       "      <th>invoice_no</th>\n",
       "      <th>date</th>\n",
       "      <th>client</th>\n",
       "      <th>qty</th>\n",
       "      <th>type</th>\n",
       "      <th>service</th>\n",
       "      <th>price</th>\n",
       "      <th>IVA</th>\n",
       "      <th>ENPAV</th>\n",
       "    </tr>\n",
       "  </thead>\n",
       "  <tbody>\n",
       "    <tr>\n",
       "      <th>0</th>\n",
       "      <td>1</td>\n",
       "      <td>2018-01-02</td>\n",
       "      <td>6248</td>\n",
       "      <td>1</td>\n",
       "      <td>AMBULATORIO</td>\n",
       "      <td>VISITA+ES. COPROLOGICO</td>\n",
       "      <td>28.13</td>\n",
       "      <td>6.31</td>\n",
       "      <td>0.56</td>\n",
       "    </tr>\n",
       "    <tr>\n",
       "      <th>1</th>\n",
       "      <td>2</td>\n",
       "      <td>2018-01-02</td>\n",
       "      <td>4467</td>\n",
       "      <td>1</td>\n",
       "      <td>ANALISI</td>\n",
       "      <td>TEST SNAP 4DX + SNAP LEISH</td>\n",
       "      <td>28.13</td>\n",
       "      <td>6.31</td>\n",
       "      <td>0.56</td>\n",
       "    </tr>\n",
       "    <tr>\n",
       "      <th>2</th>\n",
       "      <td>3</td>\n",
       "      <td>2018-01-02</td>\n",
       "      <td>6247</td>\n",
       "      <td>1</td>\n",
       "      <td>AMBULATORIO</td>\n",
       "      <td>INDAGINE XGRAFICA + SEDAZIONE</td>\n",
       "      <td>40.18</td>\n",
       "      <td>9.02</td>\n",
       "      <td>0.80</td>\n",
       "    </tr>\n",
       "    <tr>\n",
       "      <th>3</th>\n",
       "      <td>4</td>\n",
       "      <td>2018-01-02</td>\n",
       "      <td>5362</td>\n",
       "      <td>1</td>\n",
       "      <td>VACCINAZIONI</td>\n",
       "      <td>VERSICAN DHPPI+L4</td>\n",
       "      <td>40.18</td>\n",
       "      <td>9.02</td>\n",
       "      <td>0.80</td>\n",
       "    </tr>\n",
       "    <tr>\n",
       "      <th>4</th>\n",
       "      <td>5</td>\n",
       "      <td>2018-01-02</td>\n",
       "      <td>3537</td>\n",
       "      <td>1</td>\n",
       "      <td>VACCINAZIONI</td>\n",
       "      <td>VERSICAN DHPPI+L4</td>\n",
       "      <td>40.18</td>\n",
       "      <td>9.02</td>\n",
       "      <td>0.80</td>\n",
       "    </tr>\n",
       "  </tbody>\n",
       "</table>\n",
       "</div>"
      ],
      "text/plain": [
       "   invoice_no       date  client  qty          type  \\\n",
       "0           1 2018-01-02    6248    1   AMBULATORIO   \n",
       "1           2 2018-01-02    4467    1       ANALISI   \n",
       "2           3 2018-01-02    6247    1   AMBULATORIO   \n",
       "3           4 2018-01-02    5362    1  VACCINAZIONI   \n",
       "4           5 2018-01-02    3537    1  VACCINAZIONI   \n",
       "\n",
       "                         service  price   IVA  ENPAV  \n",
       "0         VISITA+ES. COPROLOGICO  28.13  6.31   0.56  \n",
       "1     TEST SNAP 4DX + SNAP LEISH  28.13  6.31   0.56  \n",
       "2  INDAGINE XGRAFICA + SEDAZIONE  40.18  9.02   0.80  \n",
       "3              VERSICAN DHPPI+L4  40.18  9.02   0.80  \n",
       "4              VERSICAN DHPPI+L4  40.18  9.02   0.80  "
      ]
     },
     "execution_count": 2,
     "metadata": {},
     "output_type": "execute_result"
    }
   ],
   "source": [
    "invoices_header_eng = [\"invoice_no\", \"date\", \"client\", \"qty\", \"type\", \"service\", \"price\", \"IVA\", \"ENPAV\"]\n",
    "\n",
    "invoices = pd.read_csv(\"datasets/invoices_2018.csv\", names=invoices_header_eng, skiprows=1, parse_dates=[1], dayfirst=True)\n",
    "invoices.head()"
   ]
  },
  {
   "cell_type": "markdown",
   "metadata": {},
   "source": [
    "The information contained in the *\"invoice_no\"*, *\"client\"*, and *\"qty\"* columns is not relevant to this investigation, thus they were removed. The columns *\"IVA\"* and *\"ENPAV\"* were also removed, as these fees are an addition to the sales price which does not contribute to the final proceeds of the clinic."
   ]
  },
  {
   "cell_type": "code",
   "execution_count": 3,
   "metadata": {
    "scrolled": true
   },
   "outputs": [
    {
     "data": {
      "text/html": [
       "<div>\n",
       "<style scoped>\n",
       "    .dataframe tbody tr th:only-of-type {\n",
       "        vertical-align: middle;\n",
       "    }\n",
       "\n",
       "    .dataframe tbody tr th {\n",
       "        vertical-align: top;\n",
       "    }\n",
       "\n",
       "    .dataframe thead th {\n",
       "        text-align: right;\n",
       "    }\n",
       "</style>\n",
       "<table border=\"1\" class=\"dataframe\">\n",
       "  <thead>\n",
       "    <tr style=\"text-align: right;\">\n",
       "      <th></th>\n",
       "      <th>date</th>\n",
       "      <th>type</th>\n",
       "      <th>service</th>\n",
       "      <th>price</th>\n",
       "    </tr>\n",
       "  </thead>\n",
       "  <tbody>\n",
       "    <tr>\n",
       "      <th>0</th>\n",
       "      <td>2018-01-02</td>\n",
       "      <td>AMBULATORIO</td>\n",
       "      <td>VISITA+ES. COPROLOGICO</td>\n",
       "      <td>28.13</td>\n",
       "    </tr>\n",
       "    <tr>\n",
       "      <th>1</th>\n",
       "      <td>2018-01-02</td>\n",
       "      <td>ANALISI</td>\n",
       "      <td>TEST SNAP 4DX + SNAP LEISH</td>\n",
       "      <td>28.13</td>\n",
       "    </tr>\n",
       "    <tr>\n",
       "      <th>2</th>\n",
       "      <td>2018-01-02</td>\n",
       "      <td>AMBULATORIO</td>\n",
       "      <td>INDAGINE XGRAFICA + SEDAZIONE</td>\n",
       "      <td>40.18</td>\n",
       "    </tr>\n",
       "    <tr>\n",
       "      <th>3</th>\n",
       "      <td>2018-01-02</td>\n",
       "      <td>VACCINAZIONI</td>\n",
       "      <td>VERSICAN DHPPI+L4</td>\n",
       "      <td>40.18</td>\n",
       "    </tr>\n",
       "    <tr>\n",
       "      <th>4</th>\n",
       "      <td>2018-01-02</td>\n",
       "      <td>VACCINAZIONI</td>\n",
       "      <td>VERSICAN DHPPI+L4</td>\n",
       "      <td>40.18</td>\n",
       "    </tr>\n",
       "  </tbody>\n",
       "</table>\n",
       "</div>"
      ],
      "text/plain": [
       "        date          type                        service  price\n",
       "0 2018-01-02   AMBULATORIO         VISITA+ES. COPROLOGICO  28.13\n",
       "1 2018-01-02       ANALISI     TEST SNAP 4DX + SNAP LEISH  28.13\n",
       "2 2018-01-02   AMBULATORIO  INDAGINE XGRAFICA + SEDAZIONE  40.18\n",
       "3 2018-01-02  VACCINAZIONI              VERSICAN DHPPI+L4  40.18\n",
       "4 2018-01-02  VACCINAZIONI              VERSICAN DHPPI+L4  40.18"
      ]
     },
     "execution_count": 3,
     "metadata": {},
     "output_type": "execute_result"
    }
   ],
   "source": [
    "invoices_clean = invoices.drop(columns=[\"invoice_no\", \"client\", \"qty\", \"IVA\", \"ENPAV\"])\n",
    "invoices_clean.head()"
   ]
  },
  {
   "cell_type": "markdown",
   "metadata": {},
   "source": [
    "Of the types of services available, this study only focuses on one: *\"Analisi\"*, i.e. analyses. A new dataframe was created only containing invoices for those services."
   ]
  },
  {
   "cell_type": "code",
   "execution_count": 4,
   "metadata": {
    "scrolled": true
   },
   "outputs": [
    {
     "data": {
      "text/html": [
       "<div>\n",
       "<style scoped>\n",
       "    .dataframe tbody tr th:only-of-type {\n",
       "        vertical-align: middle;\n",
       "    }\n",
       "\n",
       "    .dataframe tbody tr th {\n",
       "        vertical-align: top;\n",
       "    }\n",
       "\n",
       "    .dataframe thead th {\n",
       "        text-align: right;\n",
       "    }\n",
       "</style>\n",
       "<table border=\"1\" class=\"dataframe\">\n",
       "  <thead>\n",
       "    <tr style=\"text-align: right;\">\n",
       "      <th></th>\n",
       "      <th>date</th>\n",
       "      <th>type</th>\n",
       "      <th>service</th>\n",
       "      <th>price</th>\n",
       "    </tr>\n",
       "  </thead>\n",
       "  <tbody>\n",
       "    <tr>\n",
       "      <th>1</th>\n",
       "      <td>2018-01-02</td>\n",
       "      <td>ANALISI</td>\n",
       "      <td>TEST SNAP 4DX + SNAP LEISH</td>\n",
       "      <td>28.13</td>\n",
       "    </tr>\n",
       "    <tr>\n",
       "      <th>6</th>\n",
       "      <td>2018-01-02</td>\n",
       "      <td>ANALISI</td>\n",
       "      <td>EMOCROMO CON FORMULA</td>\n",
       "      <td>20.09</td>\n",
       "    </tr>\n",
       "    <tr>\n",
       "      <th>14</th>\n",
       "      <td>2018-01-03</td>\n",
       "      <td>ANALISI</td>\n",
       "      <td>TEST SNAP 4DX + SNAP LEISH</td>\n",
       "      <td>28.13</td>\n",
       "    </tr>\n",
       "    <tr>\n",
       "      <th>17</th>\n",
       "      <td>2018-01-04</td>\n",
       "      <td>ANALISI</td>\n",
       "      <td>EMOCROMO CON FORMULA</td>\n",
       "      <td>20.09</td>\n",
       "    </tr>\n",
       "    <tr>\n",
       "      <th>18</th>\n",
       "      <td>2018-01-04</td>\n",
       "      <td>ANALISI</td>\n",
       "      <td>PROFILO BIOCHIMICO 15+ ELETTROLITI</td>\n",
       "      <td>40.18</td>\n",
       "    </tr>\n",
       "  </tbody>\n",
       "</table>\n",
       "</div>"
      ],
      "text/plain": [
       "         date     type                             service  price\n",
       "1  2018-01-02  ANALISI          TEST SNAP 4DX + SNAP LEISH  28.13\n",
       "6  2018-01-02  ANALISI                EMOCROMO CON FORMULA  20.09\n",
       "14 2018-01-03  ANALISI          TEST SNAP 4DX + SNAP LEISH  28.13\n",
       "17 2018-01-04  ANALISI                EMOCROMO CON FORMULA  20.09\n",
       "18 2018-01-04  ANALISI  PROFILO BIOCHIMICO 15+ ELETTROLITI  40.18"
      ]
     },
     "execution_count": 4,
     "metadata": {},
     "output_type": "execute_result"
    }
   ],
   "source": [
    "analyses = invoices_clean[invoices_clean.type == \"ANALISI\"]\n",
    "analyses.head()"
   ]
  },
  {
   "cell_type": "code",
   "execution_count": 5,
   "metadata": {},
   "outputs": [
    {
     "name": "stdout",
     "output_type": "stream",
     "text": [
      "date       datetime64[ns]\n",
      "type               object\n",
      "service            object\n",
      "price             float64\n",
      "dtype: object\n"
     ]
    },
    {
     "data": {
      "text/html": [
       "<div>\n",
       "<style scoped>\n",
       "    .dataframe tbody tr th:only-of-type {\n",
       "        vertical-align: middle;\n",
       "    }\n",
       "\n",
       "    .dataframe tbody tr th {\n",
       "        vertical-align: top;\n",
       "    }\n",
       "\n",
       "    .dataframe thead th {\n",
       "        text-align: right;\n",
       "    }\n",
       "</style>\n",
       "<table border=\"1\" class=\"dataframe\">\n",
       "  <thead>\n",
       "    <tr style=\"text-align: right;\">\n",
       "      <th></th>\n",
       "      <th>date</th>\n",
       "      <th>type</th>\n",
       "      <th>service</th>\n",
       "      <th>price</th>\n",
       "    </tr>\n",
       "  </thead>\n",
       "  <tbody>\n",
       "    <tr>\n",
       "      <th>count</th>\n",
       "      <td>733</td>\n",
       "      <td>733</td>\n",
       "      <td>733</td>\n",
       "      <td>733.000000</td>\n",
       "    </tr>\n",
       "    <tr>\n",
       "      <th>unique</th>\n",
       "      <td>202</td>\n",
       "      <td>1</td>\n",
       "      <td>33</td>\n",
       "      <td>NaN</td>\n",
       "    </tr>\n",
       "    <tr>\n",
       "      <th>top</th>\n",
       "      <td>2018-12-06 00:00:00</td>\n",
       "      <td>ANALISI</td>\n",
       "      <td>EMOCROMO CON FORMULA</td>\n",
       "      <td>NaN</td>\n",
       "    </tr>\n",
       "    <tr>\n",
       "      <th>freq</th>\n",
       "      <td>13</td>\n",
       "      <td>733</td>\n",
       "      <td>234</td>\n",
       "      <td>NaN</td>\n",
       "    </tr>\n",
       "    <tr>\n",
       "      <th>first</th>\n",
       "      <td>2018-01-02 00:00:00</td>\n",
       "      <td>NaN</td>\n",
       "      <td>NaN</td>\n",
       "      <td>NaN</td>\n",
       "    </tr>\n",
       "    <tr>\n",
       "      <th>last</th>\n",
       "      <td>2018-12-20 00:00:00</td>\n",
       "      <td>NaN</td>\n",
       "      <td>NaN</td>\n",
       "      <td>NaN</td>\n",
       "    </tr>\n",
       "    <tr>\n",
       "      <th>mean</th>\n",
       "      <td>NaN</td>\n",
       "      <td>NaN</td>\n",
       "      <td>NaN</td>\n",
       "      <td>25.899905</td>\n",
       "    </tr>\n",
       "    <tr>\n",
       "      <th>std</th>\n",
       "      <td>NaN</td>\n",
       "      <td>NaN</td>\n",
       "      <td>NaN</td>\n",
       "      <td>10.873029</td>\n",
       "    </tr>\n",
       "    <tr>\n",
       "      <th>min</th>\n",
       "      <td>NaN</td>\n",
       "      <td>NaN</td>\n",
       "      <td>NaN</td>\n",
       "      <td>8.040000</td>\n",
       "    </tr>\n",
       "    <tr>\n",
       "      <th>25%</th>\n",
       "      <td>NaN</td>\n",
       "      <td>NaN</td>\n",
       "      <td>NaN</td>\n",
       "      <td>20.090000</td>\n",
       "    </tr>\n",
       "    <tr>\n",
       "      <th>50%</th>\n",
       "      <td>NaN</td>\n",
       "      <td>NaN</td>\n",
       "      <td>NaN</td>\n",
       "      <td>28.130000</td>\n",
       "    </tr>\n",
       "    <tr>\n",
       "      <th>75%</th>\n",
       "      <td>NaN</td>\n",
       "      <td>NaN</td>\n",
       "      <td>NaN</td>\n",
       "      <td>32.150000</td>\n",
       "    </tr>\n",
       "    <tr>\n",
       "      <th>max</th>\n",
       "      <td>NaN</td>\n",
       "      <td>NaN</td>\n",
       "      <td>NaN</td>\n",
       "      <td>80.360000</td>\n",
       "    </tr>\n",
       "  </tbody>\n",
       "</table>\n",
       "</div>"
      ],
      "text/plain": [
       "                       date     type               service       price\n",
       "count                   733      733                   733  733.000000\n",
       "unique                  202        1                    33         NaN\n",
       "top     2018-12-06 00:00:00  ANALISI  EMOCROMO CON FORMULA         NaN\n",
       "freq                     13      733                   234         NaN\n",
       "first   2018-01-02 00:00:00      NaN                   NaN         NaN\n",
       "last    2018-12-20 00:00:00      NaN                   NaN         NaN\n",
       "mean                    NaN      NaN                   NaN   25.899905\n",
       "std                     NaN      NaN                   NaN   10.873029\n",
       "min                     NaN      NaN                   NaN    8.040000\n",
       "25%                     NaN      NaN                   NaN   20.090000\n",
       "50%                     NaN      NaN                   NaN   28.130000\n",
       "75%                     NaN      NaN                   NaN   32.150000\n",
       "max                     NaN      NaN                   NaN   80.360000"
      ]
     },
     "execution_count": 5,
     "metadata": {},
     "output_type": "execute_result"
    }
   ],
   "source": [
    "print(analyses.dtypes)\n",
    "analyses.describe(include=\"all\")"
   ]
  },
  {
   "cell_type": "markdown",
   "metadata": {},
   "source": [
    "The dataset appears clean, all values are of the expected types and ranges, and there is no missing data."
   ]
  },
  {
   "cell_type": "markdown",
   "metadata": {},
   "source": [
    "### `info_analyses`\n",
    "\n",
    "The info on the device used for each analysis was collected from one of the clinic managers and stored as a .csv. The table features two columns:\n",
    "- **service**: the name of the analysis;\n",
    "- **device**: the device used to carry out the analysis.\n",
    "\n",
    "The devices are abbreviated as follows:\n",
    "- **CATALYST** indicates a device called \"Catalyst\" by IDEXX;\n",
    "- **CITO** indicates the analysis is run by a veterinarian external to the clinic;\n",
    "- **COAG** indicates a device called \"Coag DX\" by IDEXX; \n",
    "- **EST** indicates the analysis is delegated to an external laboratory;\n",
    "- **VETMED** indicates the analysis is delegated to IDEXX Laboratories, Inc.;\n",
    "- **LASER** indicates a device called \"Lasercyte\" by IDEXX;\n",
    "- **NO** indicates the analysis does not require any devices;\n",
    "- **SNAP** indicates a device called \"SNAP\" by IDEXX;\n",
    "- **UA** indicates a device called \"UA\", or \"Urinary Analysis\", by IDEXX."
   ]
  },
  {
   "cell_type": "code",
   "execution_count": 6,
   "metadata": {
    "scrolled": false
   },
   "outputs": [
    {
     "data": {
      "text/html": [
       "<div>\n",
       "<style scoped>\n",
       "    .dataframe tbody tr th:only-of-type {\n",
       "        vertical-align: middle;\n",
       "    }\n",
       "\n",
       "    .dataframe tbody tr th {\n",
       "        vertical-align: top;\n",
       "    }\n",
       "\n",
       "    .dataframe thead th {\n",
       "        text-align: right;\n",
       "    }\n",
       "</style>\n",
       "<table border=\"1\" class=\"dataframe\">\n",
       "  <thead>\n",
       "    <tr style=\"text-align: right;\">\n",
       "      <th></th>\n",
       "      <th>service</th>\n",
       "      <th>device</th>\n",
       "    </tr>\n",
       "  </thead>\n",
       "  <tbody>\n",
       "    <tr>\n",
       "      <th>32</th>\n",
       "      <td>PROFILO BIOCHIMICO 17</td>\n",
       "      <td>CATALYST</td>\n",
       "    </tr>\n",
       "    <tr>\n",
       "      <th>19</th>\n",
       "      <td>PROFILO BIOCHIMICO 10</td>\n",
       "      <td>CATALYST</td>\n",
       "    </tr>\n",
       "    <tr>\n",
       "      <th>13</th>\n",
       "      <td>PROTEINA C REATTIVA</td>\n",
       "      <td>CATALYST</td>\n",
       "    </tr>\n",
       "    <tr>\n",
       "      <th>12</th>\n",
       "      <td>ESAME ELETTROLITI</td>\n",
       "      <td>CATALYST</td>\n",
       "    </tr>\n",
       "    <tr>\n",
       "      <th>22</th>\n",
       "      <td>PROFILO RENALE + PRELIEVO</td>\n",
       "      <td>CATALYST</td>\n",
       "    </tr>\n",
       "  </tbody>\n",
       "</table>\n",
       "</div>"
      ],
      "text/plain": [
       "                      service    device\n",
       "32      PROFILO BIOCHIMICO 17  CATALYST\n",
       "19      PROFILO BIOCHIMICO 10  CATALYST\n",
       "13        PROTEINA C REATTIVA  CATALYST\n",
       "12          ESAME ELETTROLITI  CATALYST\n",
       "22  PROFILO RENALE + PRELIEVO  CATALYST"
      ]
     },
     "execution_count": 6,
     "metadata": {},
     "output_type": "execute_result"
    }
   ],
   "source": [
    "info_analyses = pd.read_csv(\"datasets/info_analyses.csv\").sort_values(\"device\")\n",
    "info_analyses.head()"
   ]
  },
  {
   "cell_type": "markdown",
   "metadata": {},
   "source": [
    "The information contained in this table is needed to separate the services contained in the `analyses` dataframe based on the device they are carried out on. Therefore, a left merge was carried out on the two dataframes, resulting in the addition of a *\"device\"* column to the existing `analyses` table."
   ]
  },
  {
   "cell_type": "code",
   "execution_count": 7,
   "metadata": {},
   "outputs": [
    {
     "data": {
      "text/html": [
       "<div>\n",
       "<style scoped>\n",
       "    .dataframe tbody tr th:only-of-type {\n",
       "        vertical-align: middle;\n",
       "    }\n",
       "\n",
       "    .dataframe tbody tr th {\n",
       "        vertical-align: top;\n",
       "    }\n",
       "\n",
       "    .dataframe thead th {\n",
       "        text-align: right;\n",
       "    }\n",
       "</style>\n",
       "<table border=\"1\" class=\"dataframe\">\n",
       "  <thead>\n",
       "    <tr style=\"text-align: right;\">\n",
       "      <th></th>\n",
       "      <th>date</th>\n",
       "      <th>type</th>\n",
       "      <th>service</th>\n",
       "      <th>price</th>\n",
       "      <th>device</th>\n",
       "    </tr>\n",
       "  </thead>\n",
       "  <tbody>\n",
       "    <tr>\n",
       "      <th>0</th>\n",
       "      <td>2018-01-02</td>\n",
       "      <td>ANALISI</td>\n",
       "      <td>TEST SNAP 4DX + SNAP LEISH</td>\n",
       "      <td>28.13</td>\n",
       "      <td>SNAP</td>\n",
       "    </tr>\n",
       "    <tr>\n",
       "      <th>1</th>\n",
       "      <td>2018-01-02</td>\n",
       "      <td>ANALISI</td>\n",
       "      <td>EMOCROMO CON FORMULA</td>\n",
       "      <td>20.09</td>\n",
       "      <td>LASER</td>\n",
       "    </tr>\n",
       "    <tr>\n",
       "      <th>2</th>\n",
       "      <td>2018-01-03</td>\n",
       "      <td>ANALISI</td>\n",
       "      <td>TEST SNAP 4DX + SNAP LEISH</td>\n",
       "      <td>28.13</td>\n",
       "      <td>SNAP</td>\n",
       "    </tr>\n",
       "    <tr>\n",
       "      <th>3</th>\n",
       "      <td>2018-01-04</td>\n",
       "      <td>ANALISI</td>\n",
       "      <td>EMOCROMO CON FORMULA</td>\n",
       "      <td>20.09</td>\n",
       "      <td>LASER</td>\n",
       "    </tr>\n",
       "    <tr>\n",
       "      <th>4</th>\n",
       "      <td>2018-01-04</td>\n",
       "      <td>ANALISI</td>\n",
       "      <td>PROFILO BIOCHIMICO 15+ ELETTROLITI</td>\n",
       "      <td>40.18</td>\n",
       "      <td>CATALYST</td>\n",
       "    </tr>\n",
       "  </tbody>\n",
       "</table>\n",
       "</div>"
      ],
      "text/plain": [
       "        date     type                             service  price    device\n",
       "0 2018-01-02  ANALISI          TEST SNAP 4DX + SNAP LEISH  28.13      SNAP\n",
       "1 2018-01-02  ANALISI                EMOCROMO CON FORMULA  20.09     LASER\n",
       "2 2018-01-03  ANALISI          TEST SNAP 4DX + SNAP LEISH  28.13      SNAP\n",
       "3 2018-01-04  ANALISI                EMOCROMO CON FORMULA  20.09     LASER\n",
       "4 2018-01-04  ANALISI  PROFILO BIOCHIMICO 15+ ELETTROLITI  40.18  CATALYST"
      ]
     },
     "execution_count": 7,
     "metadata": {},
     "output_type": "execute_result"
    }
   ],
   "source": [
    "analyses_full = analyses.merge(info_analyses, how='left')\n",
    "analyses_full.head()"
   ]
  },
  {
   "cell_type": "markdown",
   "metadata": {},
   "source": [
    "Per request of the clinic manager, this study will include all devices **except \"CITO\" and \"NO\"**, which are not a priority in this situation. The instances of analyses classified as such were therefore removed from the final table."
   ]
  },
  {
   "cell_type": "code",
   "execution_count": 8,
   "metadata": {
    "scrolled": true
   },
   "outputs": [
    {
     "name": "stdout",
     "output_type": "stream",
     "text": [
      "OK - \"CITO\" and \"NO\" were successfully removed from the dataframe.\n"
     ]
    }
   ],
   "source": [
    "analyses_final = analyses_full[(analyses_full.device != \"CITO\") & (analyses_full.device != \"NO\")]\n",
    "\n",
    "devices_list = analyses_final[\"device\"].unique()\n",
    "\n",
    "if \"CITO\" not in devices_list and \"NO\" not in devices_list:\n",
    "    print('OK - \"CITO\" and \"NO\" were successfully removed from the dataframe.')\n",
    "else:\n",
    "    print(\"ERROR - Devices list does not meet requirements.\")\n",
    "    print(devices_list)"
   ]
  },
  {
   "cell_type": "markdown",
   "metadata": {},
   "source": [
    "### `materials_ema`\n",
    "\n",
    "This file contains information on the purchasing of materials and maintenance (referred to as *\"EMA\"*) from *IDEXX, Inc.* Superfluous empty heading rows were removed upon importing. The columns contain the following information:\n",
    "\n",
    "- **status**: the status of the order. This dataset should only contain orders marked as complete (i.e. *\"Eseguiti\"*);\n",
    "- **document_type**: the type of document issued, mainly invoices (i.e. *\"Fattura\"*);\n",
    "- **document_no**: the identification number of the document issued;\n",
    "- **issue_date**: the date the document was issued, converted to a datetime object;\n",
    "- **total**: the total price of the order (including IVA, i.e. sales tax). This columns includes both orders that were paid to the provider, as well as cashbacks sent by the provider to the user, indicated with a \"-\" (minus) before the total amount.\n",
    "- **currency**: the currency the order was paid in. For this dataset, it should be exclusively EUR;\n",
    "- **date**: deadline for the payment of the order, converted to a datetime object. "
   ]
  },
  {
   "cell_type": "code",
   "execution_count": 9,
   "metadata": {
    "scrolled": true
   },
   "outputs": [
    {
     "data": {
      "text/html": [
       "<div>\n",
       "<style scoped>\n",
       "    .dataframe tbody tr th:only-of-type {\n",
       "        vertical-align: middle;\n",
       "    }\n",
       "\n",
       "    .dataframe tbody tr th {\n",
       "        vertical-align: top;\n",
       "    }\n",
       "\n",
       "    .dataframe thead th {\n",
       "        text-align: right;\n",
       "    }\n",
       "</style>\n",
       "<table border=\"1\" class=\"dataframe\">\n",
       "  <thead>\n",
       "    <tr style=\"text-align: right;\">\n",
       "      <th></th>\n",
       "      <th>status</th>\n",
       "      <th>document_type</th>\n",
       "      <th>document_no</th>\n",
       "      <th>issue_date</th>\n",
       "      <th>total</th>\n",
       "      <th>currency</th>\n",
       "      <th>date</th>\n",
       "    </tr>\n",
       "  </thead>\n",
       "  <tbody>\n",
       "    <tr>\n",
       "      <th>0</th>\n",
       "      <td>Eseguiti</td>\n",
       "      <td>Fattura</td>\n",
       "      <td>2290036213</td>\n",
       "      <td>2019-03-31</td>\n",
       "      <td>859.12</td>\n",
       "      <td>EUR</td>\n",
       "      <td>2019-05-25</td>\n",
       "    </tr>\n",
       "    <tr>\n",
       "      <th>1</th>\n",
       "      <td>Eseguiti</td>\n",
       "      <td>Fattura</td>\n",
       "      <td>180424798</td>\n",
       "      <td>2019-03-25</td>\n",
       "      <td>557.87</td>\n",
       "      <td>EUR</td>\n",
       "      <td>2019-05-31</td>\n",
       "    </tr>\n",
       "    <tr>\n",
       "      <th>2</th>\n",
       "      <td>Eseguiti</td>\n",
       "      <td>Fattura</td>\n",
       "      <td>2290034963</td>\n",
       "      <td>2019-02-28</td>\n",
       "      <td>1872.69</td>\n",
       "      <td>EUR</td>\n",
       "      <td>2019-04-25</td>\n",
       "    </tr>\n",
       "    <tr>\n",
       "      <th>3</th>\n",
       "      <td>Eseguiti</td>\n",
       "      <td>Fattura</td>\n",
       "      <td>180418722</td>\n",
       "      <td>2019-02-28</td>\n",
       "      <td>141.76</td>\n",
       "      <td>EUR</td>\n",
       "      <td>2019-03-30</td>\n",
       "    </tr>\n",
       "    <tr>\n",
       "      <th>4</th>\n",
       "      <td>Eseguiti</td>\n",
       "      <td>Fattura</td>\n",
       "      <td>2290033679</td>\n",
       "      <td>2019-01-31</td>\n",
       "      <td>572.48</td>\n",
       "      <td>EUR</td>\n",
       "      <td>2019-03-25</td>\n",
       "    </tr>\n",
       "  </tbody>\n",
       "</table>\n",
       "</div>"
      ],
      "text/plain": [
       "     status document_type  document_no issue_date    total currency       date\n",
       "0  Eseguiti       Fattura   2290036213 2019-03-31   859.12      EUR 2019-05-25\n",
       "1  Eseguiti       Fattura    180424798 2019-03-25   557.87      EUR 2019-05-31\n",
       "2  Eseguiti       Fattura   2290034963 2019-02-28  1872.69      EUR 2019-04-25\n",
       "3  Eseguiti       Fattura    180418722 2019-02-28   141.76      EUR 2019-03-30\n",
       "4  Eseguiti       Fattura   2290033679 2019-01-31   572.48      EUR 2019-03-25"
      ]
     },
     "execution_count": 9,
     "metadata": {},
     "output_type": "execute_result"
    }
   ],
   "source": [
    "materials_header_eng = [\"status\", \"document_type\", \"document_no\", \"issue_date\", \"total\", \"currency\", \"date\"]\n",
    "\n",
    "materials_ema = pd.read_csv(\"datasets/materials_ema.csv\", names=materials_header_eng, skiprows=5, parse_dates=[3,6], dayfirst=True)\n",
    "materials_ema.head()"
   ]
  },
  {
   "cell_type": "code",
   "execution_count": 10,
   "metadata": {
    "scrolled": false
   },
   "outputs": [
    {
     "name": "stdout",
     "output_type": "stream",
     "text": [
      "status                   object\n",
      "document_type            object\n",
      "document_no               int64\n",
      "issue_date       datetime64[ns]\n",
      "total                    object\n",
      "currency                 object\n",
      "date             datetime64[ns]\n",
      "dtype: object\n"
     ]
    },
    {
     "data": {
      "text/html": [
       "<div>\n",
       "<style scoped>\n",
       "    .dataframe tbody tr th:only-of-type {\n",
       "        vertical-align: middle;\n",
       "    }\n",
       "\n",
       "    .dataframe tbody tr th {\n",
       "        vertical-align: top;\n",
       "    }\n",
       "\n",
       "    .dataframe thead th {\n",
       "        text-align: right;\n",
       "    }\n",
       "</style>\n",
       "<table border=\"1\" class=\"dataframe\">\n",
       "  <thead>\n",
       "    <tr style=\"text-align: right;\">\n",
       "      <th></th>\n",
       "      <th>status</th>\n",
       "      <th>document_type</th>\n",
       "      <th>document_no</th>\n",
       "      <th>issue_date</th>\n",
       "      <th>total</th>\n",
       "      <th>currency</th>\n",
       "      <th>date</th>\n",
       "    </tr>\n",
       "  </thead>\n",
       "  <tbody>\n",
       "    <tr>\n",
       "      <th>count</th>\n",
       "      <td>126</td>\n",
       "      <td>126</td>\n",
       "      <td>1.260000e+02</td>\n",
       "      <td>126</td>\n",
       "      <td>126</td>\n",
       "      <td>126</td>\n",
       "      <td>120</td>\n",
       "    </tr>\n",
       "    <tr>\n",
       "      <th>unique</th>\n",
       "      <td>1</td>\n",
       "      <td>2</td>\n",
       "      <td>NaN</td>\n",
       "      <td>117</td>\n",
       "      <td>83</td>\n",
       "      <td>1</td>\n",
       "      <td>98</td>\n",
       "    </tr>\n",
       "    <tr>\n",
       "      <th>top</th>\n",
       "      <td>Eseguiti</td>\n",
       "      <td>Fattura</td>\n",
       "      <td>NaN</td>\n",
       "      <td>2016-04-30 00:00:00</td>\n",
       "      <td>318.87</td>\n",
       "      <td>EUR</td>\n",
       "      <td>2016-05-31 00:00:00</td>\n",
       "    </tr>\n",
       "    <tr>\n",
       "      <th>freq</th>\n",
       "      <td>126</td>\n",
       "      <td>120</td>\n",
       "      <td>NaN</td>\n",
       "      <td>2</td>\n",
       "      <td>16</td>\n",
       "      <td>126</td>\n",
       "      <td>3</td>\n",
       "    </tr>\n",
       "    <tr>\n",
       "      <th>first</th>\n",
       "      <td>NaN</td>\n",
       "      <td>NaN</td>\n",
       "      <td>NaN</td>\n",
       "      <td>2013-01-28 00:00:00</td>\n",
       "      <td>NaN</td>\n",
       "      <td>NaN</td>\n",
       "      <td>2013-03-31 00:00:00</td>\n",
       "    </tr>\n",
       "    <tr>\n",
       "      <th>last</th>\n",
       "      <td>NaN</td>\n",
       "      <td>NaN</td>\n",
       "      <td>NaN</td>\n",
       "      <td>2019-03-31 00:00:00</td>\n",
       "      <td>NaN</td>\n",
       "      <td>NaN</td>\n",
       "      <td>2019-05-31 00:00:00</td>\n",
       "    </tr>\n",
       "    <tr>\n",
       "      <th>mean</th>\n",
       "      <td>NaN</td>\n",
       "      <td>NaN</td>\n",
       "      <td>7.328070e+08</td>\n",
       "      <td>NaN</td>\n",
       "      <td>NaN</td>\n",
       "      <td>NaN</td>\n",
       "      <td>NaN</td>\n",
       "    </tr>\n",
       "    <tr>\n",
       "      <th>std</th>\n",
       "      <td>NaN</td>\n",
       "      <td>NaN</td>\n",
       "      <td>9.313064e+08</td>\n",
       "      <td>NaN</td>\n",
       "      <td>NaN</td>\n",
       "      <td>NaN</td>\n",
       "      <td>NaN</td>\n",
       "    </tr>\n",
       "    <tr>\n",
       "      <th>min</th>\n",
       "      <td>NaN</td>\n",
       "      <td>NaN</td>\n",
       "      <td>1.801653e+08</td>\n",
       "      <td>NaN</td>\n",
       "      <td>NaN</td>\n",
       "      <td>NaN</td>\n",
       "      <td>NaN</td>\n",
       "    </tr>\n",
       "    <tr>\n",
       "      <th>25%</th>\n",
       "      <td>NaN</td>\n",
       "      <td>NaN</td>\n",
       "      <td>1.802043e+08</td>\n",
       "      <td>NaN</td>\n",
       "      <td>NaN</td>\n",
       "      <td>NaN</td>\n",
       "      <td>NaN</td>\n",
       "    </tr>\n",
       "    <tr>\n",
       "      <th>50%</th>\n",
       "      <td>NaN</td>\n",
       "      <td>NaN</td>\n",
       "      <td>1.802527e+08</td>\n",
       "      <td>NaN</td>\n",
       "      <td>NaN</td>\n",
       "      <td>NaN</td>\n",
       "      <td>NaN</td>\n",
       "    </tr>\n",
       "    <tr>\n",
       "      <th>75%</th>\n",
       "      <td>NaN</td>\n",
       "      <td>NaN</td>\n",
       "      <td>2.290001e+09</td>\n",
       "      <td>NaN</td>\n",
       "      <td>NaN</td>\n",
       "      <td>NaN</td>\n",
       "      <td>NaN</td>\n",
       "    </tr>\n",
       "    <tr>\n",
       "      <th>max</th>\n",
       "      <td>NaN</td>\n",
       "      <td>NaN</td>\n",
       "      <td>2.290036e+09</td>\n",
       "      <td>NaN</td>\n",
       "      <td>NaN</td>\n",
       "      <td>NaN</td>\n",
       "      <td>NaN</td>\n",
       "    </tr>\n",
       "  </tbody>\n",
       "</table>\n",
       "</div>"
      ],
      "text/plain": [
       "          status document_type   document_no           issue_date   total  \\\n",
       "count        126           126  1.260000e+02                  126     126   \n",
       "unique         1             2           NaN                  117      83   \n",
       "top     Eseguiti       Fattura           NaN  2016-04-30 00:00:00  318.87   \n",
       "freq         126           120           NaN                    2      16   \n",
       "first        NaN           NaN           NaN  2013-01-28 00:00:00     NaN   \n",
       "last         NaN           NaN           NaN  2019-03-31 00:00:00     NaN   \n",
       "mean         NaN           NaN  7.328070e+08                  NaN     NaN   \n",
       "std          NaN           NaN  9.313064e+08                  NaN     NaN   \n",
       "min          NaN           NaN  1.801653e+08                  NaN     NaN   \n",
       "25%          NaN           NaN  1.802043e+08                  NaN     NaN   \n",
       "50%          NaN           NaN  1.802527e+08                  NaN     NaN   \n",
       "75%          NaN           NaN  2.290001e+09                  NaN     NaN   \n",
       "max          NaN           NaN  2.290036e+09                  NaN     NaN   \n",
       "\n",
       "       currency                 date  \n",
       "count       126                  120  \n",
       "unique        1                   98  \n",
       "top         EUR  2016-05-31 00:00:00  \n",
       "freq        126                    3  \n",
       "first       NaN  2013-03-31 00:00:00  \n",
       "last        NaN  2019-05-31 00:00:00  \n",
       "mean        NaN                  NaN  \n",
       "std         NaN                  NaN  \n",
       "min         NaN                  NaN  \n",
       "25%         NaN                  NaN  \n",
       "50%         NaN                  NaN  \n",
       "75%         NaN                  NaN  \n",
       "max         NaN                  NaN  "
      ]
     },
     "execution_count": 10,
     "metadata": {},
     "output_type": "execute_result"
    }
   ],
   "source": [
    "print(materials_ema.dtypes)\n",
    "materials_ema.describe(include=\"all\")"
   ]
  },
  {
   "cell_type": "markdown",
   "metadata": {},
   "source": [
    "The description of the table confirmed that the data is of the expected range and type, and that there is no missing values, except for 6 items in the *\"date\"* column. This is because a deadline does not apply to cashback amounts, and therefore those cells have remained empty. The description also shows that the dataframe contains items dating from 2013 up to 2019, and that, because of the format of some values, the *\"total\"* column is not stored as a series of floats, but as strings.\n",
    "\n",
    "The only columns that contain information relevant to this analysis are *\"document_no\"*, to identify the invoice, *\"issue_date\"*, to identify the correct time frame, and *\"total\"*, for the total price paid plus sales tax. The other columns were therefore removed from the dataset."
   ]
  },
  {
   "cell_type": "code",
   "execution_count": 11,
   "metadata": {},
   "outputs": [
    {
     "data": {
      "text/html": [
       "<div>\n",
       "<style scoped>\n",
       "    .dataframe tbody tr th:only-of-type {\n",
       "        vertical-align: middle;\n",
       "    }\n",
       "\n",
       "    .dataframe tbody tr th {\n",
       "        vertical-align: top;\n",
       "    }\n",
       "\n",
       "    .dataframe thead th {\n",
       "        text-align: right;\n",
       "    }\n",
       "</style>\n",
       "<table border=\"1\" class=\"dataframe\">\n",
       "  <thead>\n",
       "    <tr style=\"text-align: right;\">\n",
       "      <th></th>\n",
       "      <th>document_no</th>\n",
       "      <th>issue_date</th>\n",
       "      <th>total</th>\n",
       "    </tr>\n",
       "  </thead>\n",
       "  <tbody>\n",
       "    <tr>\n",
       "      <th>0</th>\n",
       "      <td>2290036213</td>\n",
       "      <td>2019-03-31</td>\n",
       "      <td>859.12</td>\n",
       "    </tr>\n",
       "    <tr>\n",
       "      <th>1</th>\n",
       "      <td>180424798</td>\n",
       "      <td>2019-03-25</td>\n",
       "      <td>557.87</td>\n",
       "    </tr>\n",
       "    <tr>\n",
       "      <th>2</th>\n",
       "      <td>2290034963</td>\n",
       "      <td>2019-02-28</td>\n",
       "      <td>1872.69</td>\n",
       "    </tr>\n",
       "    <tr>\n",
       "      <th>3</th>\n",
       "      <td>180418722</td>\n",
       "      <td>2019-02-28</td>\n",
       "      <td>141.76</td>\n",
       "    </tr>\n",
       "    <tr>\n",
       "      <th>4</th>\n",
       "      <td>2290033679</td>\n",
       "      <td>2019-01-31</td>\n",
       "      <td>572.48</td>\n",
       "    </tr>\n",
       "  </tbody>\n",
       "</table>\n",
       "</div>"
      ],
      "text/plain": [
       "   document_no issue_date    total\n",
       "0   2290036213 2019-03-31   859.12\n",
       "1    180424798 2019-03-25   557.87\n",
       "2   2290034963 2019-02-28  1872.69\n",
       "3    180418722 2019-02-28   141.76\n",
       "4   2290033679 2019-01-31   572.48"
      ]
     },
     "execution_count": 11,
     "metadata": {},
     "output_type": "execute_result"
    }
   ],
   "source": [
    "materials_ema_clean = materials_ema.loc[:,[\"document_no\", \"issue_date\", \"total\"]]\n",
    "materials_ema_clean.head()"
   ]
  },
  {
   "cell_type": "markdown",
   "metadata": {},
   "source": [
    "As mentioned above, the dataset contains invoices issued as far back as 2013, but this study only focuses on the year 2018. A new dataframe was created (`materials_ema_year`) that only contained invoices from that year, plus one specific invoice that was issued on the 31st of December 2017, as this was meant to provide materials for analyses carried out in 2018."
   ]
  },
  {
   "cell_type": "code",
   "execution_count": 12,
   "metadata": {
    "scrolled": false
   },
   "outputs": [
    {
     "data": {
      "text/html": [
       "<div>\n",
       "<style scoped>\n",
       "    .dataframe tbody tr th:only-of-type {\n",
       "        vertical-align: middle;\n",
       "    }\n",
       "\n",
       "    .dataframe tbody tr th {\n",
       "        vertical-align: top;\n",
       "    }\n",
       "\n",
       "    .dataframe thead th {\n",
       "        text-align: right;\n",
       "    }\n",
       "</style>\n",
       "<table border=\"1\" class=\"dataframe\">\n",
       "  <thead>\n",
       "    <tr style=\"text-align: right;\">\n",
       "      <th></th>\n",
       "      <th>document_no</th>\n",
       "      <th>issue_date</th>\n",
       "      <th>total</th>\n",
       "    </tr>\n",
       "  </thead>\n",
       "  <tbody>\n",
       "    <tr>\n",
       "      <th>23</th>\n",
       "      <td>180340295</td>\n",
       "      <td>2018-03-26</td>\n",
       "      <td>199.15</td>\n",
       "    </tr>\n",
       "    <tr>\n",
       "      <th>24</th>\n",
       "      <td>180340032</td>\n",
       "      <td>2018-03-23</td>\n",
       "      <td>318.87</td>\n",
       "    </tr>\n",
       "    <tr>\n",
       "      <th>25</th>\n",
       "      <td>2290020813</td>\n",
       "      <td>2018-02-28</td>\n",
       "      <td>1240.44</td>\n",
       "    </tr>\n",
       "    <tr>\n",
       "      <th>26</th>\n",
       "      <td>2290019546</td>\n",
       "      <td>2018-01-31</td>\n",
       "      <td>-768,60</td>\n",
       "    </tr>\n",
       "    <tr>\n",
       "      <th>27</th>\n",
       "      <td>2290019546</td>\n",
       "      <td>2018-01-31</td>\n",
       "      <td>-768,60</td>\n",
       "    </tr>\n",
       "  </tbody>\n",
       "</table>\n",
       "</div>"
      ],
      "text/plain": [
       "    document_no issue_date    total\n",
       "23    180340295 2018-03-26   199.15\n",
       "24    180340032 2018-03-23   318.87\n",
       "25   2290020813 2018-02-28  1240.44\n",
       "26   2290019546 2018-01-31  -768,60\n",
       "27   2290019546 2018-01-31  -768,60"
      ]
     },
     "execution_count": 12,
     "metadata": {},
     "output_type": "execute_result"
    }
   ],
   "source": [
    "materials_ema_year = materials_ema_clean[materials_ema_clean[\"issue_date\"].dt.year == 2018]\n",
    "materials_ema_year.tail()"
   ]
  },
  {
   "cell_type": "markdown",
   "metadata": {},
   "source": [
    "The *\"issue_date\"* column was inspected to confirm it only contains invoices from 2018."
   ]
  },
  {
   "cell_type": "code",
   "execution_count": 13,
   "metadata": {},
   "outputs": [
    {
     "data": {
      "text/plain": [
       "count                      23\n",
       "unique                     19\n",
       "top       2018-03-31 00:00:00\n",
       "freq                        2\n",
       "first     2018-01-31 00:00:00\n",
       "last      2018-12-28 00:00:00\n",
       "Name: issue_date, dtype: object"
      ]
     },
     "execution_count": 13,
     "metadata": {},
     "output_type": "execute_result"
    }
   ],
   "source": [
    "materials_ema_year[\"issue_date\"].describe(include=\"all\")"
   ]
  },
  {
   "cell_type": "code",
   "execution_count": 14,
   "metadata": {
    "scrolled": false
   },
   "outputs": [
    {
     "data": {
      "text/html": [
       "<div>\n",
       "<style scoped>\n",
       "    .dataframe tbody tr th:only-of-type {\n",
       "        vertical-align: middle;\n",
       "    }\n",
       "\n",
       "    .dataframe tbody tr th {\n",
       "        vertical-align: top;\n",
       "    }\n",
       "\n",
       "    .dataframe thead th {\n",
       "        text-align: right;\n",
       "    }\n",
       "</style>\n",
       "<table border=\"1\" class=\"dataframe\">\n",
       "  <thead>\n",
       "    <tr style=\"text-align: right;\">\n",
       "      <th></th>\n",
       "      <th>document_no</th>\n",
       "      <th>issue_date</th>\n",
       "      <th>total</th>\n",
       "    </tr>\n",
       "  </thead>\n",
       "  <tbody>\n",
       "    <tr>\n",
       "      <th>24</th>\n",
       "      <td>180340032</td>\n",
       "      <td>2018-03-23</td>\n",
       "      <td>318.87</td>\n",
       "    </tr>\n",
       "    <tr>\n",
       "      <th>25</th>\n",
       "      <td>2290020813</td>\n",
       "      <td>2018-02-28</td>\n",
       "      <td>1240.44</td>\n",
       "    </tr>\n",
       "    <tr>\n",
       "      <th>26</th>\n",
       "      <td>2290019546</td>\n",
       "      <td>2018-01-31</td>\n",
       "      <td>-768,60</td>\n",
       "    </tr>\n",
       "    <tr>\n",
       "      <th>27</th>\n",
       "      <td>2290019546</td>\n",
       "      <td>2018-01-31</td>\n",
       "      <td>-768,60</td>\n",
       "    </tr>\n",
       "    <tr>\n",
       "      <th>28</th>\n",
       "      <td>2290018290</td>\n",
       "      <td>2017-12-31</td>\n",
       "      <td>2380.1</td>\n",
       "    </tr>\n",
       "  </tbody>\n",
       "</table>\n",
       "</div>"
      ],
      "text/plain": [
       "    document_no issue_date    total\n",
       "24    180340032 2018-03-23   318.87\n",
       "25   2290020813 2018-02-28  1240.44\n",
       "26   2290019546 2018-01-31  -768,60\n",
       "27   2290019546 2018-01-31  -768,60\n",
       "28   2290018290 2017-12-31   2380.1"
      ]
     },
     "execution_count": 14,
     "metadata": {},
     "output_type": "execute_result"
    }
   ],
   "source": [
    "end_of_year = materials_ema_clean[(materials_ema_clean[\"issue_date\"] == pd.Timestamp(dt.date(year=2017, month=12, day=31)))]\n",
    "materials_ema_full = materials_ema_year.append(end_of_year)\n",
    "materials_ema_full.tail()"
   ]
  },
  {
   "cell_type": "markdown",
   "metadata": {},
   "source": [
    "The full version of the table, instead, also features the last day of 2017, as required."
   ]
  },
  {
   "cell_type": "code",
   "execution_count": 15,
   "metadata": {},
   "outputs": [
    {
     "data": {
      "text/plain": [
       "count                      24\n",
       "unique                     20\n",
       "top       2018-01-31 00:00:00\n",
       "freq                        2\n",
       "first     2017-12-31 00:00:00\n",
       "last      2018-12-28 00:00:00\n",
       "Name: issue_date, dtype: object"
      ]
     },
     "execution_count": 15,
     "metadata": {},
     "output_type": "execute_result"
    }
   ],
   "source": [
    "materials_ema_full[\"issue_date\"].describe(include=\"all\")"
   ]
  },
  {
   "cell_type": "markdown",
   "metadata": {},
   "source": [
    "The dataframe was checked for duplicates, as two identical entries were found at rows 26-27."
   ]
  },
  {
   "cell_type": "code",
   "execution_count": 16,
   "metadata": {},
   "outputs": [
    {
     "data": {
      "text/html": [
       "<div>\n",
       "<style scoped>\n",
       "    .dataframe tbody tr th:only-of-type {\n",
       "        vertical-align: middle;\n",
       "    }\n",
       "\n",
       "    .dataframe tbody tr th {\n",
       "        vertical-align: top;\n",
       "    }\n",
       "\n",
       "    .dataframe thead th {\n",
       "        text-align: right;\n",
       "    }\n",
       "</style>\n",
       "<table border=\"1\" class=\"dataframe\">\n",
       "  <thead>\n",
       "    <tr style=\"text-align: right;\">\n",
       "      <th></th>\n",
       "      <th>document_no</th>\n",
       "      <th>issue_date</th>\n",
       "      <th>total</th>\n",
       "    </tr>\n",
       "  </thead>\n",
       "  <tbody>\n",
       "    <tr>\n",
       "      <th>23</th>\n",
       "      <td>180340295</td>\n",
       "      <td>2018-03-26</td>\n",
       "      <td>199.15</td>\n",
       "    </tr>\n",
       "    <tr>\n",
       "      <th>24</th>\n",
       "      <td>180340032</td>\n",
       "      <td>2018-03-23</td>\n",
       "      <td>318.87</td>\n",
       "    </tr>\n",
       "    <tr>\n",
       "      <th>25</th>\n",
       "      <td>2290020813</td>\n",
       "      <td>2018-02-28</td>\n",
       "      <td>1240.44</td>\n",
       "    </tr>\n",
       "    <tr>\n",
       "      <th>26</th>\n",
       "      <td>2290019546</td>\n",
       "      <td>2018-01-31</td>\n",
       "      <td>-768,60</td>\n",
       "    </tr>\n",
       "    <tr>\n",
       "      <th>28</th>\n",
       "      <td>2290018290</td>\n",
       "      <td>2017-12-31</td>\n",
       "      <td>2380.1</td>\n",
       "    </tr>\n",
       "  </tbody>\n",
       "</table>\n",
       "</div>"
      ],
      "text/plain": [
       "    document_no issue_date    total\n",
       "23    180340295 2018-03-26   199.15\n",
       "24    180340032 2018-03-23   318.87\n",
       "25   2290020813 2018-02-28  1240.44\n",
       "26   2290019546 2018-01-31  -768,60\n",
       "28   2290018290 2017-12-31   2380.1"
      ]
     },
     "execution_count": 16,
     "metadata": {},
     "output_type": "execute_result"
    }
   ],
   "source": [
    "materials_ema_final = materials_ema_full.drop_duplicates()\n",
    "materials_ema_final.tail()"
   ]
  },
  {
   "cell_type": "markdown",
   "metadata": {},
   "source": [
    "As seen when analysing the dataframe, the column *\"total\"* is not being recognised as a float but as a string, and was therefore converted."
   ]
  },
  {
   "cell_type": "code",
   "execution_count": 17,
   "metadata": {
    "scrolled": false
   },
   "outputs": [
    {
     "data": {
      "text/html": [
       "<div>\n",
       "<style scoped>\n",
       "    .dataframe tbody tr th:only-of-type {\n",
       "        vertical-align: middle;\n",
       "    }\n",
       "\n",
       "    .dataframe tbody tr th {\n",
       "        vertical-align: top;\n",
       "    }\n",
       "\n",
       "    .dataframe thead th {\n",
       "        text-align: right;\n",
       "    }\n",
       "</style>\n",
       "<table border=\"1\" class=\"dataframe\">\n",
       "  <thead>\n",
       "    <tr style=\"text-align: right;\">\n",
       "      <th></th>\n",
       "      <th>document_no</th>\n",
       "      <th>issue_date</th>\n",
       "      <th>total</th>\n",
       "    </tr>\n",
       "  </thead>\n",
       "  <tbody>\n",
       "    <tr>\n",
       "      <th>23</th>\n",
       "      <td>180340295</td>\n",
       "      <td>2018-03-26</td>\n",
       "      <td>199.15</td>\n",
       "    </tr>\n",
       "    <tr>\n",
       "      <th>24</th>\n",
       "      <td>180340032</td>\n",
       "      <td>2018-03-23</td>\n",
       "      <td>318.87</td>\n",
       "    </tr>\n",
       "    <tr>\n",
       "      <th>25</th>\n",
       "      <td>2290020813</td>\n",
       "      <td>2018-02-28</td>\n",
       "      <td>1240.44</td>\n",
       "    </tr>\n",
       "    <tr>\n",
       "      <th>26</th>\n",
       "      <td>2290019546</td>\n",
       "      <td>2018-01-31</td>\n",
       "      <td>-768.60</td>\n",
       "    </tr>\n",
       "    <tr>\n",
       "      <th>28</th>\n",
       "      <td>2290018290</td>\n",
       "      <td>2017-12-31</td>\n",
       "      <td>2380.10</td>\n",
       "    </tr>\n",
       "  </tbody>\n",
       "</table>\n",
       "</div>"
      ],
      "text/plain": [
       "    document_no issue_date    total\n",
       "23    180340295 2018-03-26   199.15\n",
       "24    180340032 2018-03-23   318.87\n",
       "25   2290020813 2018-02-28  1240.44\n",
       "26   2290019546 2018-01-31  -768.60\n",
       "28   2290018290 2017-12-31  2380.10"
      ]
     },
     "execution_count": 17,
     "metadata": {},
     "output_type": "execute_result"
    }
   ],
   "source": [
    "materials_ema_final.loc[:,\"total\"] = materials_ema_final.loc[:,\"total\"].replace(\",\",\".\", regex=True)\n",
    "materials_ema_final.loc[:,\"total\"] = materials_ema_final.loc[:,\"total\"].apply(pd.to_numeric)\n",
    "\n",
    "materials_ema_final.tail()"
   ]
  },
  {
   "cell_type": "code",
   "execution_count": 18,
   "metadata": {},
   "outputs": [
    {
     "name": "stdout",
     "output_type": "stream",
     "text": [
      "document_no             int64\n",
      "issue_date     datetime64[ns]\n",
      "total                 float64\n",
      "dtype: object\n"
     ]
    },
    {
     "data": {
      "text/html": [
       "<div>\n",
       "<style scoped>\n",
       "    .dataframe tbody tr th:only-of-type {\n",
       "        vertical-align: middle;\n",
       "    }\n",
       "\n",
       "    .dataframe tbody tr th {\n",
       "        vertical-align: top;\n",
       "    }\n",
       "\n",
       "    .dataframe thead th {\n",
       "        text-align: right;\n",
       "    }\n",
       "</style>\n",
       "<table border=\"1\" class=\"dataframe\">\n",
       "  <thead>\n",
       "    <tr style=\"text-align: right;\">\n",
       "      <th></th>\n",
       "      <th>document_no</th>\n",
       "      <th>issue_date</th>\n",
       "      <th>total</th>\n",
       "    </tr>\n",
       "  </thead>\n",
       "  <tbody>\n",
       "    <tr>\n",
       "      <th>count</th>\n",
       "      <td>2.300000e+01</td>\n",
       "      <td>23</td>\n",
       "      <td>23.000000</td>\n",
       "    </tr>\n",
       "    <tr>\n",
       "      <th>unique</th>\n",
       "      <td>NaN</td>\n",
       "      <td>20</td>\n",
       "      <td>NaN</td>\n",
       "    </tr>\n",
       "    <tr>\n",
       "      <th>top</th>\n",
       "      <td>NaN</td>\n",
       "      <td>2018-03-31 00:00:00</td>\n",
       "      <td>NaN</td>\n",
       "    </tr>\n",
       "    <tr>\n",
       "      <th>freq</th>\n",
       "      <td>NaN</td>\n",
       "      <td>2</td>\n",
       "      <td>NaN</td>\n",
       "    </tr>\n",
       "    <tr>\n",
       "      <th>first</th>\n",
       "      <td>NaN</td>\n",
       "      <td>2017-12-31 00:00:00</td>\n",
       "      <td>NaN</td>\n",
       "    </tr>\n",
       "    <tr>\n",
       "      <th>last</th>\n",
       "      <td>NaN</td>\n",
       "      <td>2018-12-28 00:00:00</td>\n",
       "      <td>NaN</td>\n",
       "    </tr>\n",
       "    <tr>\n",
       "      <th>mean</th>\n",
       "      <td>1.097613e+09</td>\n",
       "      <td>NaN</td>\n",
       "      <td>541.888261</td>\n",
       "    </tr>\n",
       "    <tr>\n",
       "      <th>std</th>\n",
       "      <td>1.069318e+09</td>\n",
       "      <td>NaN</td>\n",
       "      <td>666.185049</td>\n",
       "    </tr>\n",
       "    <tr>\n",
       "      <th>min</th>\n",
       "      <td>1.803400e+08</td>\n",
       "      <td>NaN</td>\n",
       "      <td>-768.600000</td>\n",
       "    </tr>\n",
       "    <tr>\n",
       "      <th>25%</th>\n",
       "      <td>1.803779e+08</td>\n",
       "      <td>NaN</td>\n",
       "      <td>131.945000</td>\n",
       "    </tr>\n",
       "    <tr>\n",
       "      <th>50%</th>\n",
       "      <td>1.804026e+08</td>\n",
       "      <td>NaN</td>\n",
       "      <td>318.870000</td>\n",
       "    </tr>\n",
       "    <tr>\n",
       "      <th>75%</th>\n",
       "      <td>2.290022e+09</td>\n",
       "      <td>NaN</td>\n",
       "      <td>948.950000</td>\n",
       "    </tr>\n",
       "    <tr>\n",
       "      <th>max</th>\n",
       "      <td>2.290031e+09</td>\n",
       "      <td>NaN</td>\n",
       "      <td>2380.100000</td>\n",
       "    </tr>\n",
       "  </tbody>\n",
       "</table>\n",
       "</div>"
      ],
      "text/plain": [
       "         document_no           issue_date        total\n",
       "count   2.300000e+01                   23    23.000000\n",
       "unique           NaN                   20          NaN\n",
       "top              NaN  2018-03-31 00:00:00          NaN\n",
       "freq             NaN                    2          NaN\n",
       "first            NaN  2017-12-31 00:00:00          NaN\n",
       "last             NaN  2018-12-28 00:00:00          NaN\n",
       "mean    1.097613e+09                  NaN   541.888261\n",
       "std     1.069318e+09                  NaN   666.185049\n",
       "min     1.803400e+08                  NaN  -768.600000\n",
       "25%     1.803779e+08                  NaN   131.945000\n",
       "50%     1.804026e+08                  NaN   318.870000\n",
       "75%     2.290022e+09                  NaN   948.950000\n",
       "max     2.290031e+09                  NaN  2380.100000"
      ]
     },
     "execution_count": 18,
     "metadata": {},
     "output_type": "execute_result"
    }
   ],
   "source": [
    "print(materials_ema_final.dtypes)\n",
    "materials_ema_final.describe(include=\"all\")"
   ]
  },
  {
   "cell_type": "markdown",
   "metadata": {},
   "source": [
    "The table now appears clean, with no missing values, and featuring only invoices from the dates of interest."
   ]
  },
  {
   "cell_type": "markdown",
   "metadata": {},
   "source": [
    "### `info_materials`\n",
    "\n",
    "This dataset contains further information on the materials purchased for the year 2018 (including the last order of the 31st of December 2017), as manually recorded by the clinic manager. This information is necessary to determine the cost of materials for each separate device. The columns contain the following information:\n",
    "\n",
    "- **document_no**: the identification number of the issued invoice;\n",
    "- **date**: the date materials were delivered to the clinic, converted to a datetime object;\n",
    "- **qty**: the amount purchased;\n",
    "- **device**: the device that utilises the purchased materials;\n",
    "- **product**: the product name;\n",
    "- **unit_price**: the price per unit of the product (excluding IVA, i.e. sales tax);\n",
    "- **total**: the total price paid (excluding IVA)."
   ]
  },
  {
   "cell_type": "code",
   "execution_count": 19,
   "metadata": {},
   "outputs": [
    {
     "data": {
      "text/html": [
       "<div>\n",
       "<style scoped>\n",
       "    .dataframe tbody tr th:only-of-type {\n",
       "        vertical-align: middle;\n",
       "    }\n",
       "\n",
       "    .dataframe tbody tr th {\n",
       "        vertical-align: top;\n",
       "    }\n",
       "\n",
       "    .dataframe thead th {\n",
       "        text-align: right;\n",
       "    }\n",
       "</style>\n",
       "<table border=\"1\" class=\"dataframe\">\n",
       "  <thead>\n",
       "    <tr style=\"text-align: right;\">\n",
       "      <th></th>\n",
       "      <th>document_no</th>\n",
       "      <th>date</th>\n",
       "      <th>qty</th>\n",
       "      <th>device</th>\n",
       "      <th>product</th>\n",
       "      <th>unit_price</th>\n",
       "      <th>total</th>\n",
       "    </tr>\n",
       "  </thead>\n",
       "  <tbody>\n",
       "    <tr>\n",
       "      <th>0</th>\n",
       "      <td>2290018290</td>\n",
       "      <td>2017-12-31</td>\n",
       "      <td>2</td>\n",
       "      <td>snap</td>\n",
       "      <td>SNAP 4DX plus</td>\n",
       "      <td>236.70</td>\n",
       "      <td>473.40</td>\n",
       "    </tr>\n",
       "    <tr>\n",
       "      <th>1</th>\n",
       "      <td>2290018290</td>\n",
       "      <td>2017-12-31</td>\n",
       "      <td>1</td>\n",
       "      <td>cat</td>\n",
       "      <td>Chem 10</td>\n",
       "      <td>164.75</td>\n",
       "      <td>164.75</td>\n",
       "    </tr>\n",
       "    <tr>\n",
       "      <th>2</th>\n",
       "      <td>2290018290</td>\n",
       "      <td>2017-12-31</td>\n",
       "      <td>1</td>\n",
       "      <td>cat</td>\n",
       "      <td>Chem 17</td>\n",
       "      <td>280.85</td>\n",
       "      <td>280.85</td>\n",
       "    </tr>\n",
       "    <tr>\n",
       "      <th>3</th>\n",
       "      <td>2290018290</td>\n",
       "      <td>2017-12-31</td>\n",
       "      <td>1</td>\n",
       "      <td>cat</td>\n",
       "      <td>ALT</td>\n",
       "      <td>38.35</td>\n",
       "      <td>38.35</td>\n",
       "    </tr>\n",
       "    <tr>\n",
       "      <th>4</th>\n",
       "      <td>2290018290</td>\n",
       "      <td>2017-12-31</td>\n",
       "      <td>3</td>\n",
       "      <td>cat</td>\n",
       "      <td>Chem 15</td>\n",
       "      <td>262.20</td>\n",
       "      <td>786.60</td>\n",
       "    </tr>\n",
       "  </tbody>\n",
       "</table>\n",
       "</div>"
      ],
      "text/plain": [
       "   document_no       date  qty device        product  unit_price   total\n",
       "0   2290018290 2017-12-31    2   snap  SNAP 4DX plus      236.70  473.40\n",
       "1   2290018290 2017-12-31    1    cat        Chem 10      164.75  164.75\n",
       "2   2290018290 2017-12-31    1    cat        Chem 17      280.85  280.85\n",
       "3   2290018290 2017-12-31    1    cat            ALT       38.35   38.35\n",
       "4   2290018290 2017-12-31    3    cat        Chem 15      262.20  786.60"
      ]
     },
     "execution_count": 19,
     "metadata": {},
     "output_type": "execute_result"
    }
   ],
   "source": [
    "info_materials_header_eng = [\"document_no\", \"date\", \"qty\", \"device\", \"product\", \"unit_price\", \"total\"]\n",
    "\n",
    "info_materials = pd.read_csv(\"datasets/info_materials.csv\", names=info_materials_header_eng, skiprows=1, parse_dates=[1], dayfirst=True)\n",
    "info_materials.head()"
   ]
  },
  {
   "cell_type": "markdown",
   "metadata": {},
   "source": [
    "The information contained in the *\"qty\"*, *\"product\"*, and *\"unit_price\"* columns is not relevant to this investigation, and has therefore been removed. Then, the format of the *\"device\"* column was edited to match that of the abbreviations used in the same column in the `analyses_info` dataframe (e.g. turning \"cat\" into \"CATALYST\")."
   ]
  },
  {
   "cell_type": "code",
   "execution_count": 20,
   "metadata": {},
   "outputs": [
    {
     "data": {
      "text/html": [
       "<div>\n",
       "<style scoped>\n",
       "    .dataframe tbody tr th:only-of-type {\n",
       "        vertical-align: middle;\n",
       "    }\n",
       "\n",
       "    .dataframe tbody tr th {\n",
       "        vertical-align: top;\n",
       "    }\n",
       "\n",
       "    .dataframe thead th {\n",
       "        text-align: right;\n",
       "    }\n",
       "</style>\n",
       "<table border=\"1\" class=\"dataframe\">\n",
       "  <thead>\n",
       "    <tr style=\"text-align: right;\">\n",
       "      <th></th>\n",
       "      <th>document_no</th>\n",
       "      <th>date</th>\n",
       "      <th>device</th>\n",
       "      <th>total</th>\n",
       "    </tr>\n",
       "  </thead>\n",
       "  <tbody>\n",
       "    <tr>\n",
       "      <th>0</th>\n",
       "      <td>2290018290</td>\n",
       "      <td>2017-12-31</td>\n",
       "      <td>snap</td>\n",
       "      <td>473.40</td>\n",
       "    </tr>\n",
       "    <tr>\n",
       "      <th>1</th>\n",
       "      <td>2290018290</td>\n",
       "      <td>2017-12-31</td>\n",
       "      <td>cat</td>\n",
       "      <td>164.75</td>\n",
       "    </tr>\n",
       "    <tr>\n",
       "      <th>2</th>\n",
       "      <td>2290018290</td>\n",
       "      <td>2017-12-31</td>\n",
       "      <td>cat</td>\n",
       "      <td>280.85</td>\n",
       "    </tr>\n",
       "    <tr>\n",
       "      <th>3</th>\n",
       "      <td>2290018290</td>\n",
       "      <td>2017-12-31</td>\n",
       "      <td>cat</td>\n",
       "      <td>38.35</td>\n",
       "    </tr>\n",
       "    <tr>\n",
       "      <th>4</th>\n",
       "      <td>2290018290</td>\n",
       "      <td>2017-12-31</td>\n",
       "      <td>cat</td>\n",
       "      <td>786.60</td>\n",
       "    </tr>\n",
       "  </tbody>\n",
       "</table>\n",
       "</div>"
      ],
      "text/plain": [
       "   document_no       date device   total\n",
       "0   2290018290 2017-12-31   snap  473.40\n",
       "1   2290018290 2017-12-31    cat  164.75\n",
       "2   2290018290 2017-12-31    cat  280.85\n",
       "3   2290018290 2017-12-31    cat   38.35\n",
       "4   2290018290 2017-12-31    cat  786.60"
      ]
     },
     "execution_count": 20,
     "metadata": {},
     "output_type": "execute_result"
    }
   ],
   "source": [
    "info_materials_clean = info_materials.drop(columns=[\"qty\", \"product\", \"unit_price\"])\n",
    "info_materials_clean.head()"
   ]
  },
  {
   "cell_type": "code",
   "execution_count": 21,
   "metadata": {
    "scrolled": true
   },
   "outputs": [
    {
     "name": "stdout",
     "output_type": "stream",
     "text": [
      "Unique 'device' values: ['snap' 'cat' 'laser' 'coag']\n",
      "Format to match in analyses_info: ['CATALYST' 'CITO' 'COAG' 'EST' 'LASER' 'NO' 'SNAP' 'UA' 'VETMED']\n",
      "Values after editing: ['SNAP' 'CATALYST' 'LASER' 'COAG']\n"
     ]
    },
    {
     "data": {
      "text/html": [
       "<div>\n",
       "<style scoped>\n",
       "    .dataframe tbody tr th:only-of-type {\n",
       "        vertical-align: middle;\n",
       "    }\n",
       "\n",
       "    .dataframe tbody tr th {\n",
       "        vertical-align: top;\n",
       "    }\n",
       "\n",
       "    .dataframe thead th {\n",
       "        text-align: right;\n",
       "    }\n",
       "</style>\n",
       "<table border=\"1\" class=\"dataframe\">\n",
       "  <thead>\n",
       "    <tr style=\"text-align: right;\">\n",
       "      <th></th>\n",
       "      <th>document_no</th>\n",
       "      <th>date</th>\n",
       "      <th>device</th>\n",
       "      <th>total</th>\n",
       "    </tr>\n",
       "  </thead>\n",
       "  <tbody>\n",
       "    <tr>\n",
       "      <th>0</th>\n",
       "      <td>2290018290</td>\n",
       "      <td>2017-12-31</td>\n",
       "      <td>SNAP</td>\n",
       "      <td>473.40</td>\n",
       "    </tr>\n",
       "    <tr>\n",
       "      <th>1</th>\n",
       "      <td>2290018290</td>\n",
       "      <td>2017-12-31</td>\n",
       "      <td>CATALYST</td>\n",
       "      <td>164.75</td>\n",
       "    </tr>\n",
       "    <tr>\n",
       "      <th>2</th>\n",
       "      <td>2290018290</td>\n",
       "      <td>2017-12-31</td>\n",
       "      <td>CATALYST</td>\n",
       "      <td>280.85</td>\n",
       "    </tr>\n",
       "    <tr>\n",
       "      <th>3</th>\n",
       "      <td>2290018290</td>\n",
       "      <td>2017-12-31</td>\n",
       "      <td>CATALYST</td>\n",
       "      <td>38.35</td>\n",
       "    </tr>\n",
       "    <tr>\n",
       "      <th>4</th>\n",
       "      <td>2290018290</td>\n",
       "      <td>2017-12-31</td>\n",
       "      <td>CATALYST</td>\n",
       "      <td>786.60</td>\n",
       "    </tr>\n",
       "  </tbody>\n",
       "</table>\n",
       "</div>"
      ],
      "text/plain": [
       "   document_no       date    device   total\n",
       "0   2290018290 2017-12-31      SNAP  473.40\n",
       "1   2290018290 2017-12-31  CATALYST  164.75\n",
       "2   2290018290 2017-12-31  CATALYST  280.85\n",
       "3   2290018290 2017-12-31  CATALYST   38.35\n",
       "4   2290018290 2017-12-31  CATALYST  786.60"
      ]
     },
     "execution_count": 21,
     "metadata": {},
     "output_type": "execute_result"
    }
   ],
   "source": [
    "print(\"Unique 'device' values:\", info_materials_clean[\"device\"].unique())\n",
    "print(\"Format to match in analyses_info:\", info_analyses[\"device\"].unique())\n",
    "\n",
    "info_materials_clean[\"device\"] = info_materials_clean[\"device\"].str.upper()\n",
    "info_materials_clean[\"device\"] = info_materials_clean[\"device\"].replace(\"CAT\", \"CATALYST\")\n",
    "\n",
    "print(\"Values after editing:\", info_materials_clean[\"device\"].unique())\n",
    "info_materials_clean.head()"
   ]
  },
  {
   "cell_type": "markdown",
   "metadata": {},
   "source": [
    "### Data validation: `materials_ema` and `info_materials`\n",
    "\n",
    "The hand-compiled information contained in the `info_materials` dataset refers to the same transactions contained in `materials_ema`, with the following differences:\n",
    "- EMA fees, i.e. the price of maintenance, and cashbacks, are not included in `info_materials`;\n",
    "- The total price paid in `info_materials` excludes sales taxes (i.e. IVA), and is therefore smaller than the one found in `materials_ema` by 22% (the value of IVA in Italy in 2018).\n",
    "\n",
    "Both datasets are fundamental to this investigation, as the `materials_ema` dateset alone does not give information on which purchase went towards which device. While the `info_materials` dataset has this information, it needs to be validated before it can be used, since it was hand-compiled by the clinic manager and could contain errors. \n",
    "\n",
    "The following section was created to validate the prices and document numbers contained in the `info_materials` dataset to verify its integrity. This was done by adding the sales tax on the prices recorded by the clinic manager and comparing them to the ones recorded by the provider."
   ]
  },
  {
   "cell_type": "code",
   "execution_count": 22,
   "metadata": {
    "scrolled": true
   },
   "outputs": [
    {
     "name": "stdout",
     "output_type": "stream",
     "text": [
      "Values recorded by clinic manager, plus IVA:\n"
     ]
    },
    {
     "data": {
      "text/plain": [
       "document_no\n",
       "2290018290    2380.10\n",
       "2290020813    1233.12\n",
       "2290021903     962.09\n",
       "2290023055     294.57\n",
       "2290024241    1834.82\n",
       "Name: total, dtype: float64"
      ]
     },
     "execution_count": 22,
     "metadata": {},
     "output_type": "execute_result"
    }
   ],
   "source": [
    "total_invoice_manual = info_materials_clean.groupby(\"document_no\")[\"total\"].sum()\n",
    "total_invoice_manual_IVA = round(total_invoice_manual + (total_invoice_manual * 0.22), 2)\n",
    "print(\"Values recorded by clinic manager, plus IVA:\")\n",
    "total_invoice_manual_IVA.head()"
   ]
  },
  {
   "cell_type": "markdown",
   "metadata": {},
   "source": [
    "While the `materials_ema` dataset already groups the total based on the document number, the same code was applied to both datasets to avoid mistakes, e.g. in case one of the invoices from `materials_ema` had been divided into multiple entries, and to maintain format consistency."
   ]
  },
  {
   "cell_type": "code",
   "execution_count": 23,
   "metadata": {
    "scrolled": false
   },
   "outputs": [
    {
     "name": "stdout",
     "output_type": "stream",
     "text": [
      "Values recorded by provider, including IVA:\n"
     ]
    },
    {
     "data": {
      "text/plain": [
       "document_no\n",
       "180340032    318.87\n",
       "180340295    199.15\n",
       "180342072    127.37\n",
       "180360648    557.87\n",
       "180362770     66.73\n",
       "Name: total, dtype: float64"
      ]
     },
     "execution_count": 23,
     "metadata": {},
     "output_type": "execute_result"
    }
   ],
   "source": [
    "total_invoice_auto = materials_ema_final.groupby(\"document_no\")[\"total\"].sum()\n",
    "print(\"Values recorded by provider, including IVA:\")\n",
    "total_invoice_auto.head()"
   ]
  },
  {
   "cell_type": "markdown",
   "metadata": {},
   "source": [
    "The following section applied an inner merge to the two tables, which selects only invoices that are common to both datasets. Then, a column was added to facilitate comparison:\n",
    "\n",
    "- **difference**: the difference in EUR between the the total from `info_materials` plus tax (*\"total_manual_IVA\"*) and the total from `materials_ema` (*\"total_auto\"*)."
   ]
  },
  {
   "cell_type": "code",
   "execution_count": 24,
   "metadata": {},
   "outputs": [
    {
     "data": {
      "text/html": [
       "<div>\n",
       "<style scoped>\n",
       "    .dataframe tbody tr th:only-of-type {\n",
       "        vertical-align: middle;\n",
       "    }\n",
       "\n",
       "    .dataframe tbody tr th {\n",
       "        vertical-align: top;\n",
       "    }\n",
       "\n",
       "    .dataframe thead th {\n",
       "        text-align: right;\n",
       "    }\n",
       "</style>\n",
       "<table border=\"1\" class=\"dataframe\">\n",
       "  <thead>\n",
       "    <tr style=\"text-align: right;\">\n",
       "      <th></th>\n",
       "      <th>document_no</th>\n",
       "      <th>total_manual_IVA</th>\n",
       "      <th>total_auto</th>\n",
       "      <th>difference</th>\n",
       "    </tr>\n",
       "  </thead>\n",
       "  <tbody>\n",
       "    <tr>\n",
       "      <th>0</th>\n",
       "      <td>2290018290</td>\n",
       "      <td>2380.10</td>\n",
       "      <td>2380.10</td>\n",
       "      <td>0.00</td>\n",
       "    </tr>\n",
       "    <tr>\n",
       "      <th>1</th>\n",
       "      <td>2290020813</td>\n",
       "      <td>1233.12</td>\n",
       "      <td>1240.44</td>\n",
       "      <td>-7.32</td>\n",
       "    </tr>\n",
       "    <tr>\n",
       "      <th>2</th>\n",
       "      <td>2290021903</td>\n",
       "      <td>962.09</td>\n",
       "      <td>962.09</td>\n",
       "      <td>0.00</td>\n",
       "    </tr>\n",
       "    <tr>\n",
       "      <th>3</th>\n",
       "      <td>2290023055</td>\n",
       "      <td>294.57</td>\n",
       "      <td>301.89</td>\n",
       "      <td>-7.32</td>\n",
       "    </tr>\n",
       "    <tr>\n",
       "      <th>4</th>\n",
       "      <td>2290024241</td>\n",
       "      <td>1834.82</td>\n",
       "      <td>1834.82</td>\n",
       "      <td>0.00</td>\n",
       "    </tr>\n",
       "    <tr>\n",
       "      <th>5</th>\n",
       "      <td>2290026638</td>\n",
       "      <td>976.73</td>\n",
       "      <td>976.73</td>\n",
       "      <td>0.00</td>\n",
       "    </tr>\n",
       "    <tr>\n",
       "      <th>6</th>\n",
       "      <td>2290028869</td>\n",
       "      <td>854.98</td>\n",
       "      <td>854.98</td>\n",
       "      <td>0.00</td>\n",
       "    </tr>\n",
       "    <tr>\n",
       "      <th>7</th>\n",
       "      <td>2290030085</td>\n",
       "      <td>941.11</td>\n",
       "      <td>941.11</td>\n",
       "      <td>0.00</td>\n",
       "    </tr>\n",
       "    <tr>\n",
       "      <th>8</th>\n",
       "      <td>2290031249</td>\n",
       "      <td>956.78</td>\n",
       "      <td>956.79</td>\n",
       "      <td>-0.01</td>\n",
       "    </tr>\n",
       "  </tbody>\n",
       "</table>\n",
       "</div>"
      ],
      "text/plain": [
       "   document_no  total_manual_IVA  total_auto  difference\n",
       "0   2290018290           2380.10     2380.10        0.00\n",
       "1   2290020813           1233.12     1240.44       -7.32\n",
       "2   2290021903            962.09      962.09        0.00\n",
       "3   2290023055            294.57      301.89       -7.32\n",
       "4   2290024241           1834.82     1834.82        0.00\n",
       "5   2290026638            976.73      976.73        0.00\n",
       "6   2290028869            854.98      854.98        0.00\n",
       "7   2290030085            941.11      941.11        0.00\n",
       "8   2290031249            956.78      956.79       -0.01"
      ]
     },
     "execution_count": 24,
     "metadata": {},
     "output_type": "execute_result"
    }
   ],
   "source": [
    "total_comparison = pd.concat([total_invoice_manual_IVA, total_invoice_auto], axis=1, join=\"inner\")\n",
    "total_comparison.columns = [\"total_manual_IVA\", \"total_auto\"]\n",
    "total_comparison.reset_index(inplace=True)\n",
    "\n",
    "total_comparison[\"difference\"] = total_comparison[\"total_manual_IVA\"] - total_comparison[\"total_auto\"]\n",
    "total_comparison"
   ]
  },
  {
   "cell_type": "markdown",
   "metadata": {},
   "source": [
    "Three entries do not seem to match, the ones on rows indexed 1, 3 and 8. While the one on row 8 is minimal and probably caused by rounding errors, the ones on rows 1 and 3 are more significant. \n",
    "\n",
    "When the clinic manager was asked about these differences, they explained it had to do with delivery fees that were only applied for those two orders and thus were not recorded in the manual spreadsheet. Due to the difference being small and justified, `info_materials` was deemed accurate enough to use to identify the material cost associated with each IDEXX device."
   ]
  },
  {
   "cell_type": "markdown",
   "metadata": {},
   "source": [
    "### `info_ema`\n",
    "\n",
    "This dataset contains further information on the maintenance fees for the IDEXX devices. The data was collected directly from the clinic manager and it is necessary to calculate the total expenses the clinic faces for each individual device. The columns contain the following information:\n",
    "\n",
    "- **device**: the abbreviation of the device as seen in `info_analyses`;\n",
    "- **ema**: the maintenance fee paid every three months by the clinic for that device in EUR (excluding IVA).\n",
    "\n",
    "A new device appears in this dataset, **VETLAB**. This was clarified to be a computer that manages all other IDEXX devices, therefore its maintenance does not pertain to any analysis in particular and was distributed equally onto all the other maintenance costs. This is not to be confused with VETMED, the abbreviation that identifies the analyses outsourced to IDEXX Laboratories, Inc."
   ]
  },
  {
   "cell_type": "code",
   "execution_count": 25,
   "metadata": {},
   "outputs": [
    {
     "data": {
      "text/html": [
       "<div>\n",
       "<style scoped>\n",
       "    .dataframe tbody tr th:only-of-type {\n",
       "        vertical-align: middle;\n",
       "    }\n",
       "\n",
       "    .dataframe tbody tr th {\n",
       "        vertical-align: top;\n",
       "    }\n",
       "\n",
       "    .dataframe thead th {\n",
       "        text-align: right;\n",
       "    }\n",
       "</style>\n",
       "<table border=\"1\" class=\"dataframe\">\n",
       "  <thead>\n",
       "    <tr style=\"text-align: right;\">\n",
       "      <th></th>\n",
       "      <th>ema</th>\n",
       "    </tr>\n",
       "    <tr>\n",
       "      <th>device</th>\n",
       "      <th></th>\n",
       "    </tr>\n",
       "  </thead>\n",
       "  <tbody>\n",
       "    <tr>\n",
       "      <th>CATALYST</th>\n",
       "      <td>163.24</td>\n",
       "    </tr>\n",
       "    <tr>\n",
       "      <th>VETLAB</th>\n",
       "      <td>45.18</td>\n",
       "    </tr>\n",
       "    <tr>\n",
       "      <th>LASER</th>\n",
       "      <td>159.40</td>\n",
       "    </tr>\n",
       "    <tr>\n",
       "      <th>COAG</th>\n",
       "      <td>41.60</td>\n",
       "    </tr>\n",
       "    <tr>\n",
       "      <th>UA</th>\n",
       "      <td>15.19</td>\n",
       "    </tr>\n",
       "  </tbody>\n",
       "</table>\n",
       "</div>"
      ],
      "text/plain": [
       "             ema\n",
       "device          \n",
       "CATALYST  163.24\n",
       "VETLAB     45.18\n",
       "LASER     159.40\n",
       "COAG       41.60\n",
       "UA         15.19"
      ]
     },
     "execution_count": 25,
     "metadata": {},
     "output_type": "execute_result"
    }
   ],
   "source": [
    "info_ema = pd.read_csv(\"datasets/info_ema.csv\", index_col=\"device\")\n",
    "info_ema"
   ]
  },
  {
   "cell_type": "code",
   "execution_count": 26,
   "metadata": {},
   "outputs": [
    {
     "data": {
      "text/html": [
       "<div>\n",
       "<style scoped>\n",
       "    .dataframe tbody tr th:only-of-type {\n",
       "        vertical-align: middle;\n",
       "    }\n",
       "\n",
       "    .dataframe tbody tr th {\n",
       "        vertical-align: top;\n",
       "    }\n",
       "\n",
       "    .dataframe thead th {\n",
       "        text-align: right;\n",
       "    }\n",
       "</style>\n",
       "<table border=\"1\" class=\"dataframe\">\n",
       "  <thead>\n",
       "    <tr style=\"text-align: right;\">\n",
       "      <th></th>\n",
       "      <th>ema</th>\n",
       "      <th>year_ema</th>\n",
       "    </tr>\n",
       "    <tr>\n",
       "      <th>device</th>\n",
       "      <th></th>\n",
       "      <th></th>\n",
       "    </tr>\n",
       "  </thead>\n",
       "  <tbody>\n",
       "    <tr>\n",
       "      <th>CATALYST</th>\n",
       "      <td>163.24</td>\n",
       "      <td>489.72</td>\n",
       "    </tr>\n",
       "    <tr>\n",
       "      <th>VETLAB</th>\n",
       "      <td>45.18</td>\n",
       "      <td>135.54</td>\n",
       "    </tr>\n",
       "    <tr>\n",
       "      <th>LASER</th>\n",
       "      <td>159.40</td>\n",
       "      <td>478.20</td>\n",
       "    </tr>\n",
       "    <tr>\n",
       "      <th>COAG</th>\n",
       "      <td>41.60</td>\n",
       "      <td>124.80</td>\n",
       "    </tr>\n",
       "    <tr>\n",
       "      <th>UA</th>\n",
       "      <td>15.19</td>\n",
       "      <td>45.57</td>\n",
       "    </tr>\n",
       "  </tbody>\n",
       "</table>\n",
       "</div>"
      ],
      "text/plain": [
       "             ema  year_ema\n",
       "device                    \n",
       "CATALYST  163.24    489.72\n",
       "VETLAB     45.18    135.54\n",
       "LASER     159.40    478.20\n",
       "COAG       41.60    124.80\n",
       "UA         15.19     45.57"
      ]
     },
     "execution_count": 26,
     "metadata": {},
     "output_type": "execute_result"
    }
   ],
   "source": [
    "info_ema[\"year_ema\"] = round(info_ema[\"ema\"] * 3, 2)\n",
    "info_ema"
   ]
  },
  {
   "cell_type": "code",
   "execution_count": 27,
   "metadata": {},
   "outputs": [
    {
     "name": "stdout",
     "output_type": "stream",
     "text": [
      "Vetlab year cost: 135.54\n"
     ]
    }
   ],
   "source": [
    "vetlab_cost = info_ema.loc[\"VETLAB\",\"year_ema\"]\n",
    "print(\"Vetlab year cost:\", vetlab_cost)"
   ]
  },
  {
   "cell_type": "code",
   "execution_count": 28,
   "metadata": {},
   "outputs": [
    {
     "data": {
      "text/html": [
       "<div>\n",
       "<style scoped>\n",
       "    .dataframe tbody tr th:only-of-type {\n",
       "        vertical-align: middle;\n",
       "    }\n",
       "\n",
       "    .dataframe tbody tr th {\n",
       "        vertical-align: top;\n",
       "    }\n",
       "\n",
       "    .dataframe thead th {\n",
       "        text-align: right;\n",
       "    }\n",
       "</style>\n",
       "<table border=\"1\" class=\"dataframe\">\n",
       "  <thead>\n",
       "    <tr style=\"text-align: right;\">\n",
       "      <th></th>\n",
       "      <th>ema</th>\n",
       "      <th>year_ema</th>\n",
       "      <th>total_vetlab</th>\n",
       "    </tr>\n",
       "    <tr>\n",
       "      <th>device</th>\n",
       "      <th></th>\n",
       "      <th></th>\n",
       "      <th></th>\n",
       "    </tr>\n",
       "  </thead>\n",
       "  <tbody>\n",
       "    <tr>\n",
       "      <th>CATALYST</th>\n",
       "      <td>163.24</td>\n",
       "      <td>489.72</td>\n",
       "      <td>523.605</td>\n",
       "    </tr>\n",
       "    <tr>\n",
       "      <th>LASER</th>\n",
       "      <td>159.40</td>\n",
       "      <td>478.20</td>\n",
       "      <td>512.085</td>\n",
       "    </tr>\n",
       "    <tr>\n",
       "      <th>COAG</th>\n",
       "      <td>41.60</td>\n",
       "      <td>124.80</td>\n",
       "      <td>158.685</td>\n",
       "    </tr>\n",
       "    <tr>\n",
       "      <th>UA</th>\n",
       "      <td>15.19</td>\n",
       "      <td>45.57</td>\n",
       "      <td>79.455</td>\n",
       "    </tr>\n",
       "  </tbody>\n",
       "</table>\n",
       "</div>"
      ],
      "text/plain": [
       "             ema  year_ema  total_vetlab\n",
       "device                                  \n",
       "CATALYST  163.24    489.72       523.605\n",
       "LASER     159.40    478.20       512.085\n",
       "COAG       41.60    124.80       158.685\n",
       "UA         15.19     45.57        79.455"
      ]
     },
     "execution_count": 28,
     "metadata": {},
     "output_type": "execute_result"
    }
   ],
   "source": [
    "if \"VETLAB\" in info_ema.index:\n",
    "    vetlab_distributed = info_ema.loc[\"VETLAB\",\"year_ema\"] / (len(info_ema.index) - 1)\n",
    "    info_ema[\"total_vetlab\"] = info_ema[\"year_ema\"] + vetlab_distributed\n",
    "    info_ema.drop(\"VETLAB\", inplace=True)\n",
    "\n",
    "info_ema"
   ]
  },
  {
   "cell_type": "markdown",
   "metadata": {},
   "source": [
    "To confirm that the total has not changed after distributing the VETLAB cost:"
   ]
  },
  {
   "cell_type": "code",
   "execution_count": 29,
   "metadata": {},
   "outputs": [
    {
     "name": "stdout",
     "output_type": "stream",
     "text": [
      "OK - The total before and after distribution is unchanged.\n"
     ]
    }
   ],
   "source": [
    "if (info_ema[\"year_ema\"].sum() + vetlab_cost) == info_ema[\"total_vetlab\"].sum():\n",
    "    print(\"OK - The total before and after distribution is unchanged.\")\n",
    "else:\n",
    "    print(\"ERROR - The totals before and after distribution do not match.\")"
   ]
  },
  {
   "cell_type": "markdown",
   "metadata": {},
   "source": [
    "### `info_vetmed`\n",
    "\n",
    "Apart from the materials and maintenance of the devices, another cost faced by the clinic is that of externally ran analyses, i.e. those that get delegated to a different laboratory. One of these is the VetMed Laboratory by IDEXX: the fees paid for this service can be found in `materials_ema`, as they are from the same provider. However, since the specifics of the invoice are not present in that dataframe, further information was collected on which invoices were issued specifically for the VetMed service. \n",
    "\n",
    "This can be found in the `info_vetmed` .csv file, which was used to recall the required totals from the `materials_ema` dataset."
   ]
  },
  {
   "cell_type": "code",
   "execution_count": 30,
   "metadata": {},
   "outputs": [
    {
     "data": {
      "text/html": [
       "<div>\n",
       "<style scoped>\n",
       "    .dataframe tbody tr th:only-of-type {\n",
       "        vertical-align: middle;\n",
       "    }\n",
       "\n",
       "    .dataframe tbody tr th {\n",
       "        vertical-align: top;\n",
       "    }\n",
       "\n",
       "    .dataframe thead th {\n",
       "        text-align: right;\n",
       "    }\n",
       "</style>\n",
       "<table border=\"1\" class=\"dataframe\">\n",
       "  <thead>\n",
       "    <tr style=\"text-align: right;\">\n",
       "      <th></th>\n",
       "      <th>document_no</th>\n",
       "    </tr>\n",
       "  </thead>\n",
       "  <tbody>\n",
       "    <tr>\n",
       "      <th>0</th>\n",
       "      <td>180342072</td>\n",
       "    </tr>\n",
       "    <tr>\n",
       "      <th>1</th>\n",
       "      <td>180362770</td>\n",
       "    </tr>\n",
       "    <tr>\n",
       "      <th>2</th>\n",
       "      <td>180375530</td>\n",
       "    </tr>\n",
       "    <tr>\n",
       "      <th>3</th>\n",
       "      <td>180382799</td>\n",
       "    </tr>\n",
       "    <tr>\n",
       "      <th>4</th>\n",
       "      <td>180390664</td>\n",
       "    </tr>\n",
       "    <tr>\n",
       "      <th>5</th>\n",
       "      <td>180404090</td>\n",
       "    </tr>\n",
       "  </tbody>\n",
       "</table>\n",
       "</div>"
      ],
      "text/plain": [
       "   document_no\n",
       "0    180342072\n",
       "1    180362770\n",
       "2    180375530\n",
       "3    180382799\n",
       "4    180390664\n",
       "5    180404090"
      ]
     },
     "execution_count": 30,
     "metadata": {},
     "output_type": "execute_result"
    }
   ],
   "source": [
    "info_vetmed = pd.read_csv(\"datasets/info_vetmed.csv\")\n",
    "info_vetmed"
   ]
  },
  {
   "cell_type": "code",
   "execution_count": 31,
   "metadata": {},
   "outputs": [
    {
     "data": {
      "text/html": [
       "<div>\n",
       "<style scoped>\n",
       "    .dataframe tbody tr th:only-of-type {\n",
       "        vertical-align: middle;\n",
       "    }\n",
       "\n",
       "    .dataframe tbody tr th {\n",
       "        vertical-align: top;\n",
       "    }\n",
       "\n",
       "    .dataframe thead th {\n",
       "        text-align: right;\n",
       "    }\n",
       "</style>\n",
       "<table border=\"1\" class=\"dataframe\">\n",
       "  <thead>\n",
       "    <tr style=\"text-align: right;\">\n",
       "      <th></th>\n",
       "      <th>document_no</th>\n",
       "      <th>total</th>\n",
       "    </tr>\n",
       "  </thead>\n",
       "  <tbody>\n",
       "    <tr>\n",
       "      <th>0</th>\n",
       "      <td>180342072</td>\n",
       "      <td>127.37</td>\n",
       "    </tr>\n",
       "    <tr>\n",
       "      <th>1</th>\n",
       "      <td>180362770</td>\n",
       "      <td>66.73</td>\n",
       "    </tr>\n",
       "    <tr>\n",
       "      <th>2</th>\n",
       "      <td>180375530</td>\n",
       "      <td>127.37</td>\n",
       "    </tr>\n",
       "    <tr>\n",
       "      <th>3</th>\n",
       "      <td>180382799</td>\n",
       "      <td>136.52</td>\n",
       "    </tr>\n",
       "    <tr>\n",
       "      <th>4</th>\n",
       "      <td>180390664</td>\n",
       "      <td>66.73</td>\n",
       "    </tr>\n",
       "    <tr>\n",
       "      <th>5</th>\n",
       "      <td>180404090</td>\n",
       "      <td>66.73</td>\n",
       "    </tr>\n",
       "  </tbody>\n",
       "</table>\n",
       "</div>"
      ],
      "text/plain": [
       "   document_no   total\n",
       "0    180342072  127.37\n",
       "1    180362770   66.73\n",
       "2    180375530  127.37\n",
       "3    180382799  136.52\n",
       "4    180390664   66.73\n",
       "5    180404090   66.73"
      ]
     },
     "execution_count": 31,
     "metadata": {},
     "output_type": "execute_result"
    }
   ],
   "source": [
    "info_vetmed_full = info_vetmed.merge(materials_ema_final.loc[:,[\"document_no\",\"total\"]], how=\"left\")\n",
    "info_vetmed_full"
   ]
  },
  {
   "cell_type": "markdown",
   "metadata": {},
   "source": [
    "### `info_est`\n",
    "\n",
    "This file contains information on the cost of analyses outsourced to another, non-IDEXX external laboratory, abbreviated as **EST** so far.\n",
    "\n",
    "The columns contain the following information:\n",
    "- **date**: the date the invoice was issued, converted to a datetime object;\n",
    "- **invoice_no**: the identification number of the invoice;\n",
    "- **invoice_amount**: total amount featured in the invoice;\n",
    "- **amount_no_IVA**: the invoice amount without sales tax, i.e. IVA;\n",
    "- **retention_tax**: the withholding tax relative to the amount without IVA;\n",
    "- **date_paid**: the date the total was paid, converted to a datetime object;\n",
    "- **total**: the sum of the amount without IVA and the retention tax;\n",
    "- **ref_month**: the months of the year during which the services were carried out."
   ]
  },
  {
   "cell_type": "code",
   "execution_count": 32,
   "metadata": {},
   "outputs": [
    {
     "data": {
      "text/html": [
       "<div>\n",
       "<style scoped>\n",
       "    .dataframe tbody tr th:only-of-type {\n",
       "        vertical-align: middle;\n",
       "    }\n",
       "\n",
       "    .dataframe tbody tr th {\n",
       "        vertical-align: top;\n",
       "    }\n",
       "\n",
       "    .dataframe thead th {\n",
       "        text-align: right;\n",
       "    }\n",
       "</style>\n",
       "<table border=\"1\" class=\"dataframe\">\n",
       "  <thead>\n",
       "    <tr style=\"text-align: right;\">\n",
       "      <th></th>\n",
       "      <th>date</th>\n",
       "      <th>invoice_no</th>\n",
       "      <th>invoice_amount</th>\n",
       "      <th>amount_no_IVA</th>\n",
       "      <th>retention_tax</th>\n",
       "      <th>date_paid</th>\n",
       "      <th>total</th>\n",
       "      <th>ref_month</th>\n",
       "    </tr>\n",
       "  </thead>\n",
       "  <tbody>\n",
       "    <tr>\n",
       "      <th>0</th>\n",
       "      <td>2016-04-12</td>\n",
       "      <td>57</td>\n",
       "      <td>88.77</td>\n",
       "      <td>72.76</td>\n",
       "      <td>17.0</td>\n",
       "      <td>2016-05-16</td>\n",
       "      <td>89.76</td>\n",
       "      <td>gen feb mar</td>\n",
       "    </tr>\n",
       "    <tr>\n",
       "      <th>1</th>\n",
       "      <td>2016-06-12</td>\n",
       "      <td>95</td>\n",
       "      <td>157.18</td>\n",
       "      <td>128.84</td>\n",
       "      <td>30.1</td>\n",
       "      <td>2016-08-22</td>\n",
       "      <td>158.94</td>\n",
       "      <td>mag</td>\n",
       "    </tr>\n",
       "    <tr>\n",
       "      <th>2</th>\n",
       "      <td>2016-07-10</td>\n",
       "      <td>136</td>\n",
       "      <td>48.04</td>\n",
       "      <td>39.38</td>\n",
       "      <td>9.2</td>\n",
       "      <td>2016-08-22</td>\n",
       "      <td>48.58</td>\n",
       "      <td>giu</td>\n",
       "    </tr>\n",
       "    <tr>\n",
       "      <th>3</th>\n",
       "      <td>2016-10-18</td>\n",
       "      <td>213</td>\n",
       "      <td>43.86</td>\n",
       "      <td>35.95</td>\n",
       "      <td>8.4</td>\n",
       "      <td>2016-11-16</td>\n",
       "      <td>44.35</td>\n",
       "      <td>NaN</td>\n",
       "    </tr>\n",
       "    <tr>\n",
       "      <th>4</th>\n",
       "      <td>2016-12-30</td>\n",
       "      <td>258</td>\n",
       "      <td>28.20</td>\n",
       "      <td>23.11</td>\n",
       "      <td>5.4</td>\n",
       "      <td>2017-02-16</td>\n",
       "      <td>28.51</td>\n",
       "      <td>NaN</td>\n",
       "    </tr>\n",
       "  </tbody>\n",
       "</table>\n",
       "</div>"
      ],
      "text/plain": [
       "        date  invoice_no  invoice_amount  amount_no_IVA  retention_tax  \\\n",
       "0 2016-04-12          57           88.77          72.76           17.0   \n",
       "1 2016-06-12          95          157.18         128.84           30.1   \n",
       "2 2016-07-10         136           48.04          39.38            9.2   \n",
       "3 2016-10-18         213           43.86          35.95            8.4   \n",
       "4 2016-12-30         258           28.20          23.11            5.4   \n",
       "\n",
       "   date_paid   total    ref_month  \n",
       "0 2016-05-16   89.76  gen feb mar  \n",
       "1 2016-08-22  158.94          mag  \n",
       "2 2016-08-22   48.58          giu  \n",
       "3 2016-11-16   44.35          NaN  \n",
       "4 2017-02-16   28.51          NaN  "
      ]
     },
     "execution_count": 32,
     "metadata": {},
     "output_type": "execute_result"
    }
   ],
   "source": [
    "info_est_header_eng = [\"date\", \"invoice_no\", \"invoice_amount\", \"amount_no_IVA\", \"retention_tax\", \"date_paid\", \"total\", \"ref_month\"]\n",
    "\n",
    "info_est = pd.read_csv(\"datasets/info_est.csv\", names=info_est_header_eng, skiprows=1, parse_dates=[0, 5], dayfirst=True)\n",
    "info_est.head()"
   ]
  },
  {
   "cell_type": "markdown",
   "metadata": {},
   "source": [
    "The only columns that contain information that is relevant to this analysis are *\"date\"* and *\"total\"*, as the former allows us to select the invoices from the year of interest, while the latter allows us to calculate the final expense faced by the clinc. A new dataframe with only these two columns was therefore created, and all items from years other than 2018 were removed."
   ]
  },
  {
   "cell_type": "code",
   "execution_count": 33,
   "metadata": {},
   "outputs": [
    {
     "data": {
      "text/html": [
       "<div>\n",
       "<style scoped>\n",
       "    .dataframe tbody tr th:only-of-type {\n",
       "        vertical-align: middle;\n",
       "    }\n",
       "\n",
       "    .dataframe tbody tr th {\n",
       "        vertical-align: top;\n",
       "    }\n",
       "\n",
       "    .dataframe thead th {\n",
       "        text-align: right;\n",
       "    }\n",
       "</style>\n",
       "<table border=\"1\" class=\"dataframe\">\n",
       "  <thead>\n",
       "    <tr style=\"text-align: right;\">\n",
       "      <th></th>\n",
       "      <th>date</th>\n",
       "      <th>total</th>\n",
       "    </tr>\n",
       "  </thead>\n",
       "  <tbody>\n",
       "    <tr>\n",
       "      <th>0</th>\n",
       "      <td>2016-04-12</td>\n",
       "      <td>89.76</td>\n",
       "    </tr>\n",
       "    <tr>\n",
       "      <th>1</th>\n",
       "      <td>2016-06-12</td>\n",
       "      <td>158.94</td>\n",
       "    </tr>\n",
       "    <tr>\n",
       "      <th>2</th>\n",
       "      <td>2016-07-10</td>\n",
       "      <td>48.58</td>\n",
       "    </tr>\n",
       "    <tr>\n",
       "      <th>3</th>\n",
       "      <td>2016-10-18</td>\n",
       "      <td>44.35</td>\n",
       "    </tr>\n",
       "    <tr>\n",
       "      <th>4</th>\n",
       "      <td>2016-12-30</td>\n",
       "      <td>28.51</td>\n",
       "    </tr>\n",
       "  </tbody>\n",
       "</table>\n",
       "</div>"
      ],
      "text/plain": [
       "        date   total\n",
       "0 2016-04-12   89.76\n",
       "1 2016-06-12  158.94\n",
       "2 2016-07-10   48.58\n",
       "3 2016-10-18   44.35\n",
       "4 2016-12-30   28.51"
      ]
     },
     "execution_count": 33,
     "metadata": {},
     "output_type": "execute_result"
    }
   ],
   "source": [
    "info_est_clean = info_est.loc[:,[\"date\", \"total\"]]\n",
    "info_est_clean.head()"
   ]
  },
  {
   "cell_type": "code",
   "execution_count": 34,
   "metadata": {},
   "outputs": [
    {
     "data": {
      "text/html": [
       "<div>\n",
       "<style scoped>\n",
       "    .dataframe tbody tr th:only-of-type {\n",
       "        vertical-align: middle;\n",
       "    }\n",
       "\n",
       "    .dataframe tbody tr th {\n",
       "        vertical-align: top;\n",
       "    }\n",
       "\n",
       "    .dataframe thead th {\n",
       "        text-align: right;\n",
       "    }\n",
       "</style>\n",
       "<table border=\"1\" class=\"dataframe\">\n",
       "  <thead>\n",
       "    <tr style=\"text-align: right;\">\n",
       "      <th></th>\n",
       "      <th>date</th>\n",
       "      <th>total</th>\n",
       "    </tr>\n",
       "  </thead>\n",
       "  <tbody>\n",
       "    <tr>\n",
       "      <th>13</th>\n",
       "      <td>2018-03-07</td>\n",
       "      <td>99.27</td>\n",
       "    </tr>\n",
       "    <tr>\n",
       "      <th>14</th>\n",
       "      <td>2018-05-07</td>\n",
       "      <td>146.79</td>\n",
       "    </tr>\n",
       "    <tr>\n",
       "      <th>15</th>\n",
       "      <td>2018-06-12</td>\n",
       "      <td>99.27</td>\n",
       "    </tr>\n",
       "    <tr>\n",
       "      <th>16</th>\n",
       "      <td>2018-07-10</td>\n",
       "      <td>63.36</td>\n",
       "    </tr>\n",
       "    <tr>\n",
       "      <th>17</th>\n",
       "      <td>2018-08-06</td>\n",
       "      <td>71.81</td>\n",
       "    </tr>\n",
       "  </tbody>\n",
       "</table>\n",
       "</div>"
      ],
      "text/plain": [
       "         date   total\n",
       "13 2018-03-07   99.27\n",
       "14 2018-05-07  146.79\n",
       "15 2018-06-12   99.27\n",
       "16 2018-07-10   63.36\n",
       "17 2018-08-06   71.81"
      ]
     },
     "execution_count": 34,
     "metadata": {},
     "output_type": "execute_result"
    }
   ],
   "source": [
    "info_est_final = info_est_clean[info_est_clean[\"date\"].dt.year == 2018]\n",
    "info_est_final.head()"
   ]
  },
  {
   "cell_type": "code",
   "execution_count": 35,
   "metadata": {},
   "outputs": [
    {
     "data": {
      "text/plain": [
       "count                      10\n",
       "unique                     10\n",
       "top       2018-08-06 00:00:00\n",
       "freq                        1\n",
       "first     2018-03-07 00:00:00\n",
       "last      2018-12-30 00:00:00\n",
       "Name: date, dtype: object"
      ]
     },
     "execution_count": 35,
     "metadata": {},
     "output_type": "execute_result"
    }
   ],
   "source": [
    "info_est_final[\"date\"].describe(include=\"all\")"
   ]
  },
  {
   "cell_type": "markdown",
   "metadata": {},
   "source": [
    "The description above confirms that the table only contains data from 2018."
   ]
  },
  {
   "cell_type": "markdown",
   "metadata": {},
   "source": [
    "## Data analysis\n",
    "\n",
    "Note: all values used do not include sales tax (i.e. IVA).\n",
    "\n",
    "### Calculation of profit margin for each device"
   ]
  },
  {
   "cell_type": "code",
   "execution_count": 36,
   "metadata": {
    "scrolled": true
   },
   "outputs": [
    {
     "name": "stdout",
     "output_type": "stream",
     "text": [
      "Proceeds per device:\n"
     ]
    },
    {
     "data": {
      "text/plain": [
       "device\n",
       "CATALYST    5830.95\n",
       "LASER       4725.17\n",
       "SNAP        4621.36\n",
       "EST         1243.27\n",
       "VETMED       642.88\n",
       "UA           490.40\n",
       "COAG         301.36\n",
       "Name: price, dtype: float64"
      ]
     },
     "execution_count": 36,
     "metadata": {},
     "output_type": "execute_result"
    }
   ],
   "source": [
    "devices_proceeds = analyses_final.groupby(\"device\")[\"price\"].sum().sort_values(ascending=False)\n",
    "\n",
    "print(\"Proceeds per device:\")\n",
    "devices_proceeds"
   ]
  },
  {
   "cell_type": "code",
   "execution_count": 37,
   "metadata": {},
   "outputs": [
    {
     "name": "stdout",
     "output_type": "stream",
     "text": [
      "Cost of materials per device:\n"
     ]
    },
    {
     "data": {
      "text/plain": [
       "device\n",
       "CATALYST    4676.15\n",
       "SNAP        2263.80\n",
       "LASER       1277.95\n",
       "COAG         334.80\n",
       "Name: total, dtype: float64"
      ]
     },
     "execution_count": 37,
     "metadata": {},
     "output_type": "execute_result"
    }
   ],
   "source": [
    "devices_materials = info_materials_clean.groupby(\"device\")[\"total\"].sum().sort_values(ascending=False)\n",
    "\n",
    "print(\"Cost of materials per device:\")\n",
    "devices_materials"
   ]
  },
  {
   "cell_type": "code",
   "execution_count": 38,
   "metadata": {
    "scrolled": true
   },
   "outputs": [
    {
     "name": "stdout",
     "output_type": "stream",
     "text": [
      "Cost of maintenance per device:\n"
     ]
    },
    {
     "data": {
      "text/plain": [
       "device\n",
       "CATALYST    523.605\n",
       "LASER       512.085\n",
       "COAG        158.685\n",
       "UA           79.455\n",
       "Name: total_vetlab, dtype: float64"
      ]
     },
     "execution_count": 38,
     "metadata": {},
     "output_type": "execute_result"
    }
   ],
   "source": [
    "ema_cost_year = info_ema[\"total_vetlab\"]\n",
    "\n",
    "print(\"Cost of maintenance per device:\")\n",
    "ema_cost_year"
   ]
  },
  {
   "cell_type": "code",
   "execution_count": 39,
   "metadata": {
    "scrolled": true
   },
   "outputs": [
    {
     "name": "stdout",
     "output_type": "stream",
     "text": [
      "Total cost of VETMED analyses for the year: 591.45\n"
     ]
    }
   ],
   "source": [
    "info_vetmed_year = info_vetmed_full[\"total\"].sum()\n",
    "\n",
    "print(\"Total cost of VETMED analyses for the year:\", info_vetmed_year)"
   ]
  },
  {
   "cell_type": "code",
   "execution_count": 40,
   "metadata": {},
   "outputs": [
    {
     "name": "stdout",
     "output_type": "stream",
     "text": [
      "Total cost of EST analyses for the year: 892.37\n"
     ]
    }
   ],
   "source": [
    "est_cost_year = info_est_final[\"total\"].sum()\n",
    "\n",
    "print(\"Total cost of EST analyses for the year:\", est_cost_year)"
   ]
  },
  {
   "cell_type": "code",
   "execution_count": 41,
   "metadata": {},
   "outputs": [
    {
     "data": {
      "text/html": [
       "<div>\n",
       "<style scoped>\n",
       "    .dataframe tbody tr th:only-of-type {\n",
       "        vertical-align: middle;\n",
       "    }\n",
       "\n",
       "    .dataframe tbody tr th {\n",
       "        vertical-align: top;\n",
       "    }\n",
       "\n",
       "    .dataframe thead th {\n",
       "        text-align: right;\n",
       "    }\n",
       "</style>\n",
       "<table border=\"1\" class=\"dataframe\">\n",
       "  <thead>\n",
       "    <tr style=\"text-align: right;\">\n",
       "      <th></th>\n",
       "      <th>proceeds</th>\n",
       "      <th>materials_cost</th>\n",
       "      <th>ema_cost</th>\n",
       "      <th>other_costs</th>\n",
       "    </tr>\n",
       "  </thead>\n",
       "  <tbody>\n",
       "    <tr>\n",
       "      <th>CATALYST</th>\n",
       "      <td>5830.95</td>\n",
       "      <td>4676.15</td>\n",
       "      <td>523.605</td>\n",
       "      <td>0.00</td>\n",
       "    </tr>\n",
       "    <tr>\n",
       "      <th>COAG</th>\n",
       "      <td>301.36</td>\n",
       "      <td>334.80</td>\n",
       "      <td>158.685</td>\n",
       "      <td>0.00</td>\n",
       "    </tr>\n",
       "    <tr>\n",
       "      <th>EST</th>\n",
       "      <td>1243.27</td>\n",
       "      <td>0.00</td>\n",
       "      <td>0.000</td>\n",
       "      <td>892.37</td>\n",
       "    </tr>\n",
       "    <tr>\n",
       "      <th>LASER</th>\n",
       "      <td>4725.17</td>\n",
       "      <td>1277.95</td>\n",
       "      <td>512.085</td>\n",
       "      <td>0.00</td>\n",
       "    </tr>\n",
       "    <tr>\n",
       "      <th>SNAP</th>\n",
       "      <td>4621.36</td>\n",
       "      <td>2263.80</td>\n",
       "      <td>0.000</td>\n",
       "      <td>0.00</td>\n",
       "    </tr>\n",
       "    <tr>\n",
       "      <th>UA</th>\n",
       "      <td>490.40</td>\n",
       "      <td>0.00</td>\n",
       "      <td>79.455</td>\n",
       "      <td>0.00</td>\n",
       "    </tr>\n",
       "    <tr>\n",
       "      <th>VETMED</th>\n",
       "      <td>642.88</td>\n",
       "      <td>0.00</td>\n",
       "      <td>0.000</td>\n",
       "      <td>591.45</td>\n",
       "    </tr>\n",
       "  </tbody>\n",
       "</table>\n",
       "</div>"
      ],
      "text/plain": [
       "          proceeds  materials_cost  ema_cost  other_costs\n",
       "CATALYST   5830.95         4676.15   523.605         0.00\n",
       "COAG        301.36          334.80   158.685         0.00\n",
       "EST        1243.27            0.00     0.000       892.37\n",
       "LASER      4725.17         1277.95   512.085         0.00\n",
       "SNAP       4621.36         2263.80     0.000         0.00\n",
       "UA          490.40            0.00    79.455         0.00\n",
       "VETMED      642.88            0.00     0.000       591.45"
      ]
     },
     "execution_count": 41,
     "metadata": {},
     "output_type": "execute_result"
    }
   ],
   "source": [
    "devices_profit = pd.concat([devices_proceeds, devices_materials, ema_cost_year], axis=1, sort=True)\n",
    "devices_profit.columns = [\"proceeds\", \"materials_cost\", \"ema_cost\"]\n",
    "\n",
    "# add the cost of outsourced analyses (VETMED and EST) to a new column\n",
    "devices_profit.loc[\"VETMED\",\"other_costs\"] = info_vetmed_year\n",
    "devices_profit.loc[\"EST\", \"other_costs\"] = est_cost_year\n",
    "\n",
    "devices_profit.fillna(0, inplace=True)\n",
    "devices_profit"
   ]
  },
  {
   "cell_type": "markdown",
   "metadata": {},
   "source": [
    "#### Results\n",
    "\n",
    "To calculate the profits for each device, three columns were added to the previous table:\n",
    "\n",
    "- **total_cost**, which sums all costs for that device;\n",
    "- **profit**, the difference between the proceeds and the total cost;\n",
    "- **profit_%**, the profit percentage for that device, i.e. the percentage of the profit calculated based on the cost price. This allows to see which devices return higher profits when taking into account their running cost."
   ]
  },
  {
   "cell_type": "code",
   "execution_count": 42,
   "metadata": {},
   "outputs": [
    {
     "data": {
      "text/html": [
       "<div>\n",
       "<style scoped>\n",
       "    .dataframe tbody tr th:only-of-type {\n",
       "        vertical-align: middle;\n",
       "    }\n",
       "\n",
       "    .dataframe tbody tr th {\n",
       "        vertical-align: top;\n",
       "    }\n",
       "\n",
       "    .dataframe thead th {\n",
       "        text-align: right;\n",
       "    }\n",
       "</style>\n",
       "<table border=\"1\" class=\"dataframe\">\n",
       "  <thead>\n",
       "    <tr style=\"text-align: right;\">\n",
       "      <th></th>\n",
       "      <th>proceeds</th>\n",
       "      <th>materials_cost</th>\n",
       "      <th>ema_cost</th>\n",
       "      <th>other_costs</th>\n",
       "      <th>total_cost</th>\n",
       "      <th>profit</th>\n",
       "      <th>profit_%</th>\n",
       "    </tr>\n",
       "  </thead>\n",
       "  <tbody>\n",
       "    <tr>\n",
       "      <th>CATALYST</th>\n",
       "      <td>5830.95</td>\n",
       "      <td>4676.15</td>\n",
       "      <td>523.605</td>\n",
       "      <td>0.00</td>\n",
       "      <td>5199.76</td>\n",
       "      <td>631.19</td>\n",
       "      <td>12.14</td>\n",
       "    </tr>\n",
       "    <tr>\n",
       "      <th>COAG</th>\n",
       "      <td>301.36</td>\n",
       "      <td>334.80</td>\n",
       "      <td>158.685</td>\n",
       "      <td>0.00</td>\n",
       "      <td>493.48</td>\n",
       "      <td>-192.12</td>\n",
       "      <td>-38.93</td>\n",
       "    </tr>\n",
       "    <tr>\n",
       "      <th>EST</th>\n",
       "      <td>1243.27</td>\n",
       "      <td>0.00</td>\n",
       "      <td>0.000</td>\n",
       "      <td>892.37</td>\n",
       "      <td>892.37</td>\n",
       "      <td>350.90</td>\n",
       "      <td>39.32</td>\n",
       "    </tr>\n",
       "    <tr>\n",
       "      <th>LASER</th>\n",
       "      <td>4725.17</td>\n",
       "      <td>1277.95</td>\n",
       "      <td>512.085</td>\n",
       "      <td>0.00</td>\n",
       "      <td>1790.04</td>\n",
       "      <td>2935.13</td>\n",
       "      <td>163.97</td>\n",
       "    </tr>\n",
       "    <tr>\n",
       "      <th>SNAP</th>\n",
       "      <td>4621.36</td>\n",
       "      <td>2263.80</td>\n",
       "      <td>0.000</td>\n",
       "      <td>0.00</td>\n",
       "      <td>2263.80</td>\n",
       "      <td>2357.56</td>\n",
       "      <td>104.14</td>\n",
       "    </tr>\n",
       "    <tr>\n",
       "      <th>UA</th>\n",
       "      <td>490.40</td>\n",
       "      <td>0.00</td>\n",
       "      <td>79.455</td>\n",
       "      <td>0.00</td>\n",
       "      <td>79.46</td>\n",
       "      <td>410.94</td>\n",
       "      <td>517.17</td>\n",
       "    </tr>\n",
       "    <tr>\n",
       "      <th>VETMED</th>\n",
       "      <td>642.88</td>\n",
       "      <td>0.00</td>\n",
       "      <td>0.000</td>\n",
       "      <td>591.45</td>\n",
       "      <td>591.45</td>\n",
       "      <td>51.43</td>\n",
       "      <td>8.70</td>\n",
       "    </tr>\n",
       "  </tbody>\n",
       "</table>\n",
       "</div>"
      ],
      "text/plain": [
       "          proceeds  materials_cost  ema_cost  other_costs  total_cost  \\\n",
       "CATALYST   5830.95         4676.15   523.605         0.00     5199.76   \n",
       "COAG        301.36          334.80   158.685         0.00      493.48   \n",
       "EST        1243.27            0.00     0.000       892.37      892.37   \n",
       "LASER      4725.17         1277.95   512.085         0.00     1790.04   \n",
       "SNAP       4621.36         2263.80     0.000         0.00     2263.80   \n",
       "UA          490.40            0.00    79.455         0.00       79.46   \n",
       "VETMED      642.88            0.00     0.000       591.45      591.45   \n",
       "\n",
       "           profit  profit_%  \n",
       "CATALYST   631.19     12.14  \n",
       "COAG      -192.12    -38.93  \n",
       "EST        350.90     39.32  \n",
       "LASER     2935.13    163.97  \n",
       "SNAP      2357.56    104.14  \n",
       "UA         410.94    517.17  \n",
       "VETMED      51.43      8.70  "
      ]
     },
     "execution_count": 42,
     "metadata": {},
     "output_type": "execute_result"
    }
   ],
   "source": [
    "devices_profit[\"total_cost\"] = round(devices_profit.loc[:,\"materials_cost\":\"other_costs\"].sum(axis=1), 2)\n",
    "devices_profit[\"profit\"] = round(devices_profit[\"proceeds\"] - devices_profit[\"total_cost\"], 2)\n",
    "devices_profit[\"profit_%\"] = round(devices_profit[\"profit\"] / devices_profit[\"total_cost\"] * 100, 2)\n",
    "devices_profit"
   ]
  },
  {
   "cell_type": "markdown",
   "metadata": {},
   "source": [
    "#### Graphical representation\n",
    "\n",
    "Below it is possible to see a representation of the previous results. The only device to present negative profit is the COAG, while all the others are positive with different margins. \n",
    "\n",
    "The device that was more profitable overall is the UA, i.e. the Urine Analysis device, followed by the LASER, i.e. the Lasercyte, and the SNAP. Outsourcing analyses does not seem to allow a large margin of profit, as seen by the low percentages of EST and VETMED. \n",
    "\n",
    "Interestingly, the device that produced the highest proceeds, the CATALYST, is also one of those with the lowest profit margin due to the high cost of its materials. This might also be due to the fact that the CATALYST is used for a wider variety of tests than other devices, as shown below the graph, and might require a larger number of different materials."
   ]
  },
  {
   "cell_type": "code",
   "execution_count": 43,
   "metadata": {
    "scrolled": false
   },
   "outputs": [
    {
     "data": {
      "image/png": "[encoded data removed]",
      "text/plain": [
       "<Figure size 720x720 with 1 Axes>"
      ]
     },
     "metadata": {
      "needs_background": "light"
     },
     "output_type": "display_data"
    }
   ],
   "source": [
    "fig, ax = plt.subplots(figsize=(10,10))\n",
    "g = sns.barplot(data=devices_profit, x=devices_profit.index, y=\"profit_%\", ax=ax)\n",
    "g.set(ylabel = \"Profit percentage (%)\", xlabel = \"\")\n",
    "plt.show()"
   ]
  },
  {
   "cell_type": "markdown",
   "metadata": {},
   "source": [
    "#### Number of different analyses ran by each device"
   ]
  },
  {
   "cell_type": "code",
   "execution_count": 44,
   "metadata": {},
   "outputs": [
    {
     "data": {
      "text/plain": [
       "CATALYST    11\n",
       "EST          8\n",
       "SNAP         5\n",
       "NO           4\n",
       "UA           1\n",
       "LASER        1\n",
       "CITO         1\n",
       "COAG         1\n",
       "VETMED       1\n",
       "Name: device, dtype: int64"
      ]
     },
     "execution_count": 44,
     "metadata": {},
     "output_type": "execute_result"
    }
   ],
   "source": [
    "info_analyses[\"device\"].value_counts()"
   ]
  },
  {
   "cell_type": "markdown",
   "metadata": {},
   "source": [
    "### Total profits for all devices\n",
    "\n",
    "Per request of the clinic manager, the total profits across all IDEXX devices (CATALYST, COAG, LASER, SNAP, and UA) was calculated. First, the rows regarding EST and VETMED were removed, and the total for each column was calculated in a new TOTALS row. Then, the amount of cashback given by IDEXX for that year was calculated and added to the total profit value. \n",
    "\n",
    "Due to the varying nature of the IDEXX cashback program, it was in fact not possible to properly separate the amount between the various IDEXX devices, and can thus only be taken into account when looking at all devices together."
   ]
  },
  {
   "cell_type": "code",
   "execution_count": 45,
   "metadata": {
    "scrolled": true
   },
   "outputs": [
    {
     "data": {
      "text/html": [
       "<div>\n",
       "<style scoped>\n",
       "    .dataframe tbody tr th:only-of-type {\n",
       "        vertical-align: middle;\n",
       "    }\n",
       "\n",
       "    .dataframe tbody tr th {\n",
       "        vertical-align: top;\n",
       "    }\n",
       "\n",
       "    .dataframe thead th {\n",
       "        text-align: right;\n",
       "    }\n",
       "</style>\n",
       "<table border=\"1\" class=\"dataframe\">\n",
       "  <thead>\n",
       "    <tr style=\"text-align: right;\">\n",
       "      <th></th>\n",
       "      <th>proceeds</th>\n",
       "      <th>materials_cost</th>\n",
       "      <th>ema_cost</th>\n",
       "      <th>other_costs</th>\n",
       "      <th>total_cost</th>\n",
       "      <th>profit</th>\n",
       "      <th>profit_%</th>\n",
       "    </tr>\n",
       "  </thead>\n",
       "  <tbody>\n",
       "    <tr>\n",
       "      <th>CATALYST</th>\n",
       "      <td>5830.95</td>\n",
       "      <td>4676.15</td>\n",
       "      <td>523.605</td>\n",
       "      <td>0.0</td>\n",
       "      <td>5199.76</td>\n",
       "      <td>631.19</td>\n",
       "      <td>12.14</td>\n",
       "    </tr>\n",
       "    <tr>\n",
       "      <th>COAG</th>\n",
       "      <td>301.36</td>\n",
       "      <td>334.80</td>\n",
       "      <td>158.685</td>\n",
       "      <td>0.0</td>\n",
       "      <td>493.48</td>\n",
       "      <td>-192.12</td>\n",
       "      <td>-38.93</td>\n",
       "    </tr>\n",
       "    <tr>\n",
       "      <th>LASER</th>\n",
       "      <td>4725.17</td>\n",
       "      <td>1277.95</td>\n",
       "      <td>512.085</td>\n",
       "      <td>0.0</td>\n",
       "      <td>1790.04</td>\n",
       "      <td>2935.13</td>\n",
       "      <td>163.97</td>\n",
       "    </tr>\n",
       "    <tr>\n",
       "      <th>SNAP</th>\n",
       "      <td>4621.36</td>\n",
       "      <td>2263.80</td>\n",
       "      <td>0.000</td>\n",
       "      <td>0.0</td>\n",
       "      <td>2263.80</td>\n",
       "      <td>2357.56</td>\n",
       "      <td>104.14</td>\n",
       "    </tr>\n",
       "    <tr>\n",
       "      <th>UA</th>\n",
       "      <td>490.40</td>\n",
       "      <td>0.00</td>\n",
       "      <td>79.455</td>\n",
       "      <td>0.0</td>\n",
       "      <td>79.46</td>\n",
       "      <td>410.94</td>\n",
       "      <td>517.17</td>\n",
       "    </tr>\n",
       "  </tbody>\n",
       "</table>\n",
       "</div>"
      ],
      "text/plain": [
       "          proceeds  materials_cost  ema_cost  other_costs  total_cost  \\\n",
       "CATALYST   5830.95         4676.15   523.605          0.0     5199.76   \n",
       "COAG        301.36          334.80   158.685          0.0      493.48   \n",
       "LASER      4725.17         1277.95   512.085          0.0     1790.04   \n",
       "SNAP       4621.36         2263.80     0.000          0.0     2263.80   \n",
       "UA          490.40            0.00    79.455          0.0       79.46   \n",
       "\n",
       "           profit  profit_%  \n",
       "CATALYST   631.19     12.14  \n",
       "COAG      -192.12    -38.93  \n",
       "LASER     2935.13    163.97  \n",
       "SNAP      2357.56    104.14  \n",
       "UA         410.94    517.17  "
      ]
     },
     "execution_count": 45,
     "metadata": {},
     "output_type": "execute_result"
    }
   ],
   "source": [
    "devices_profit_IDEXX = devices_profit[(devices_profit.index != \"EST\") & (devices_profit.index != \"VETMED\")]\n",
    "devices_profit_IDEXX"
   ]
  },
  {
   "cell_type": "code",
   "execution_count": 46,
   "metadata": {
    "scrolled": false
   },
   "outputs": [
    {
     "data": {
      "text/html": [
       "<div>\n",
       "<style scoped>\n",
       "    .dataframe tbody tr th:only-of-type {\n",
       "        vertical-align: middle;\n",
       "    }\n",
       "\n",
       "    .dataframe tbody tr th {\n",
       "        vertical-align: top;\n",
       "    }\n",
       "\n",
       "    .dataframe thead th {\n",
       "        text-align: right;\n",
       "    }\n",
       "</style>\n",
       "<table border=\"1\" class=\"dataframe\">\n",
       "  <thead>\n",
       "    <tr style=\"text-align: right;\">\n",
       "      <th></th>\n",
       "      <th>proceeds</th>\n",
       "      <th>materials_cost</th>\n",
       "      <th>ema_cost</th>\n",
       "      <th>other_costs</th>\n",
       "      <th>total_cost</th>\n",
       "      <th>profit</th>\n",
       "      <th>profit_%</th>\n",
       "    </tr>\n",
       "  </thead>\n",
       "  <tbody>\n",
       "    <tr>\n",
       "      <th>CATALYST</th>\n",
       "      <td>5830.95</td>\n",
       "      <td>4676.15</td>\n",
       "      <td>523.605</td>\n",
       "      <td>0.0</td>\n",
       "      <td>5199.76</td>\n",
       "      <td>631.19</td>\n",
       "      <td>12.14</td>\n",
       "    </tr>\n",
       "    <tr>\n",
       "      <th>COAG</th>\n",
       "      <td>301.36</td>\n",
       "      <td>334.80</td>\n",
       "      <td>158.685</td>\n",
       "      <td>0.0</td>\n",
       "      <td>493.48</td>\n",
       "      <td>-192.12</td>\n",
       "      <td>-38.93</td>\n",
       "    </tr>\n",
       "    <tr>\n",
       "      <th>LASER</th>\n",
       "      <td>4725.17</td>\n",
       "      <td>1277.95</td>\n",
       "      <td>512.085</td>\n",
       "      <td>0.0</td>\n",
       "      <td>1790.04</td>\n",
       "      <td>2935.13</td>\n",
       "      <td>163.97</td>\n",
       "    </tr>\n",
       "    <tr>\n",
       "      <th>SNAP</th>\n",
       "      <td>4621.36</td>\n",
       "      <td>2263.80</td>\n",
       "      <td>0.000</td>\n",
       "      <td>0.0</td>\n",
       "      <td>2263.80</td>\n",
       "      <td>2357.56</td>\n",
       "      <td>104.14</td>\n",
       "    </tr>\n",
       "    <tr>\n",
       "      <th>UA</th>\n",
       "      <td>490.40</td>\n",
       "      <td>0.00</td>\n",
       "      <td>79.455</td>\n",
       "      <td>0.0</td>\n",
       "      <td>79.46</td>\n",
       "      <td>410.94</td>\n",
       "      <td>517.17</td>\n",
       "    </tr>\n",
       "    <tr>\n",
       "      <th>TOTAL</th>\n",
       "      <td>15969.24</td>\n",
       "      <td>8552.70</td>\n",
       "      <td>1273.830</td>\n",
       "      <td>0.0</td>\n",
       "      <td>9826.54</td>\n",
       "      <td>6142.70</td>\n",
       "      <td>758.49</td>\n",
       "    </tr>\n",
       "  </tbody>\n",
       "</table>\n",
       "</div>"
      ],
      "text/plain": [
       "          proceeds  materials_cost  ema_cost  other_costs  total_cost  \\\n",
       "CATALYST   5830.95         4676.15   523.605          0.0     5199.76   \n",
       "COAG        301.36          334.80   158.685          0.0      493.48   \n",
       "LASER      4725.17         1277.95   512.085          0.0     1790.04   \n",
       "SNAP       4621.36         2263.80     0.000          0.0     2263.80   \n",
       "UA          490.40            0.00    79.455          0.0       79.46   \n",
       "TOTAL     15969.24         8552.70  1273.830          0.0     9826.54   \n",
       "\n",
       "           profit  profit_%  \n",
       "CATALYST   631.19     12.14  \n",
       "COAG      -192.12    -38.93  \n",
       "LASER     2935.13    163.97  \n",
       "SNAP      2357.56    104.14  \n",
       "UA         410.94    517.17  \n",
       "TOTAL     6142.70    758.49  "
      ]
     },
     "execution_count": 46,
     "metadata": {},
     "output_type": "execute_result"
    }
   ],
   "source": [
    "if \"TOTAL\" not in devices_profit_IDEXX.index:\n",
    "    devices_profit_IDEXX.loc[\"TOTAL\"] = devices_profit_IDEXX.sum()\n",
    "\n",
    "devices_profit_IDEXX"
   ]
  },
  {
   "cell_type": "markdown",
   "metadata": {},
   "source": [
    "#### Results"
   ]
  },
  {
   "cell_type": "code",
   "execution_count": 47,
   "metadata": {},
   "outputs": [
    {
     "name": "stdout",
     "output_type": "stream",
     "text": [
      "Total profit of all IDEXX devices: 6142.7\n",
      "Total cashback received: 630.0\n",
      "Total profit including cashback: 6772.7\n"
     ]
    }
   ],
   "source": [
    "idexx_profit = devices_profit_IDEXX.loc[\"TOTAL\", \"profit\"]\n",
    "\n",
    "print(\"Total profit of all IDEXX devices:\", idexx_profit)\n",
    "\n",
    "\n",
    "cashback_rows = materials_ema_final[materials_ema_final[\"total\"] < 0]\n",
    "cashback_total = abs(cashback_rows[\"total\"].sum())\n",
    "cashback_total_no_IVA = cashback_total / 1.22\n",
    "\n",
    "print(\"Total cashback received:\", cashback_total_no_IVA)\n",
    "\n",
    "\n",
    "profit_cashback = idexx_profit + cashback_total_no_IVA\n",
    "\n",
    "print(\"Total profit including cashback:\", profit_cashback)"
   ]
  },
  {
   "cell_type": "markdown",
   "metadata": {},
   "source": [
    "### Average minimal cost of analyses\n",
    "\n",
    "This section calculates the minimum average price that needs to be charged for the analyses of each device based on the cost of materials and maintenance of the device itself, and on the number of times the device was used in 2018. \n",
    "\n",
    "Again, it is important to remember that **\"CITO\"** and **\"NO\"** -type services are excluded from this analysis. Furthermore, the price calculated is to be considered merely indicative, seen how some of the devices carry out a wide variety of tests that could be priced very differently."
   ]
  },
  {
   "cell_type": "code",
   "execution_count": 48,
   "metadata": {
    "scrolled": false
   },
   "outputs": [
    {
     "name": "stdout",
     "output_type": "stream",
     "text": [
      "Average price charged in 2018 for each service:\n"
     ]
    },
    {
     "data": {
      "text/plain": [
       "service\n",
       "CONTROLLO GLICEMICO GIORNALIERO (2 TEST)    14.0650\n",
       "EMOCROMO CON FORMULA                        22.5020\n",
       "ESAME DELLE URINE                           12.0550\n",
       "ESAME DELLE URINE CON SEDIMENTO             20.0925\n",
       "ESAME DELLE URINE PU/CU                     25.4500\n",
       "Name: price, dtype: float64"
      ]
     },
     "execution_count": 48,
     "metadata": {},
     "output_type": "execute_result"
    }
   ],
   "source": [
    "services_prices = analyses_final.loc[:,[\"service\", \"price\"]]\n",
    "services_prices.drop_duplicates([\"service\", \"price\"], inplace=True)\n",
    "services_prices_mean = services_prices.groupby(\"service\")[\"price\"].mean()\n",
    "\n",
    "print(\"Average price charged in 2018 for each service:\")\n",
    "services_prices_mean.head()"
   ]
  },
  {
   "cell_type": "code",
   "execution_count": 49,
   "metadata": {
    "scrolled": false
   },
   "outputs": [
    {
     "name": "stdout",
     "output_type": "stream",
     "text": [
      "Number of times each analysis was ran in 2018:\n"
     ]
    },
    {
     "data": {
      "text/plain": [
       "EMOCROMO CON FORMULA                  234\n",
       "TEST SNAP 4DX + SNAP LEISH            152\n",
       "PROFILO BIOCHIMICO 15                 106\n",
       "ESAME DELLE URINE                      57\n",
       "PROFILO BIOCHIMICO 15+ ELETTROLITI     34\n",
       "Name: service, dtype: int64"
      ]
     },
     "execution_count": 49,
     "metadata": {},
     "output_type": "execute_result"
    }
   ],
   "source": [
    "services_count = analyses_final[\"service\"].value_counts()\n",
    "\n",
    "print(\"Number of times each analysis was ran in 2018:\")\n",
    "services_count.head()"
   ]
  },
  {
   "cell_type": "markdown",
   "metadata": {},
   "source": [
    "After finding the mean price charger per service and the number of times it was carried out in the year, this information was combined in a new dataframe, and the `info_analyses` dataframe was once again used to add a new column indicating which device was responsible for that service."
   ]
  },
  {
   "cell_type": "code",
   "execution_count": 50,
   "metadata": {},
   "outputs": [
    {
     "data": {
      "text/html": [
       "<div>\n",
       "<style scoped>\n",
       "    .dataframe tbody tr th:only-of-type {\n",
       "        vertical-align: middle;\n",
       "    }\n",
       "\n",
       "    .dataframe tbody tr th {\n",
       "        vertical-align: top;\n",
       "    }\n",
       "\n",
       "    .dataframe thead th {\n",
       "        text-align: right;\n",
       "    }\n",
       "</style>\n",
       "<table border=\"1\" class=\"dataframe\">\n",
       "  <thead>\n",
       "    <tr style=\"text-align: right;\">\n",
       "      <th></th>\n",
       "      <th>service</th>\n",
       "      <th>mean_charge</th>\n",
       "      <th>count</th>\n",
       "    </tr>\n",
       "  </thead>\n",
       "  <tbody>\n",
       "    <tr>\n",
       "      <th>0</th>\n",
       "      <td>CONTROLLO GLICEMICO GIORNALIERO (2 TEST)</td>\n",
       "      <td>14.0650</td>\n",
       "      <td>2</td>\n",
       "    </tr>\n",
       "    <tr>\n",
       "      <th>1</th>\n",
       "      <td>EMOCROMO CON FORMULA</td>\n",
       "      <td>22.5020</td>\n",
       "      <td>234</td>\n",
       "    </tr>\n",
       "    <tr>\n",
       "      <th>2</th>\n",
       "      <td>ESAME DELLE URINE</td>\n",
       "      <td>12.0550</td>\n",
       "      <td>57</td>\n",
       "    </tr>\n",
       "    <tr>\n",
       "      <th>3</th>\n",
       "      <td>ESAME DELLE URINE CON SEDIMENTO</td>\n",
       "      <td>20.0925</td>\n",
       "      <td>6</td>\n",
       "    </tr>\n",
       "    <tr>\n",
       "      <th>4</th>\n",
       "      <td>ESAME DELLE URINE PU/CU</td>\n",
       "      <td>25.4500</td>\n",
       "      <td>3</td>\n",
       "    </tr>\n",
       "  </tbody>\n",
       "</table>\n",
       "</div>"
      ],
      "text/plain": [
       "                                    service  mean_charge  count\n",
       "0  CONTROLLO GLICEMICO GIORNALIERO (2 TEST)      14.0650      2\n",
       "1                      EMOCROMO CON FORMULA      22.5020    234\n",
       "2                         ESAME DELLE URINE      12.0550     57\n",
       "3           ESAME DELLE URINE CON SEDIMENTO      20.0925      6\n",
       "4                   ESAME DELLE URINE PU/CU      25.4500      3"
      ]
     },
     "execution_count": 50,
     "metadata": {},
     "output_type": "execute_result"
    }
   ],
   "source": [
    "services_minimum = pd.concat([services_prices_mean, services_count], axis=1, sort=False)\n",
    "services_minimum.reset_index(inplace=True)\n",
    "services_minimum.columns = [\"service\", \"mean_charge\", \"count\"]\n",
    "services_minimum.head()"
   ]
  },
  {
   "cell_type": "code",
   "execution_count": 51,
   "metadata": {},
   "outputs": [
    {
     "data": {
      "text/html": [
       "<div>\n",
       "<style scoped>\n",
       "    .dataframe tbody tr th:only-of-type {\n",
       "        vertical-align: middle;\n",
       "    }\n",
       "\n",
       "    .dataframe tbody tr th {\n",
       "        vertical-align: top;\n",
       "    }\n",
       "\n",
       "    .dataframe thead th {\n",
       "        text-align: right;\n",
       "    }\n",
       "</style>\n",
       "<table border=\"1\" class=\"dataframe\">\n",
       "  <thead>\n",
       "    <tr style=\"text-align: right;\">\n",
       "      <th></th>\n",
       "      <th>service</th>\n",
       "      <th>mean_charge</th>\n",
       "      <th>count</th>\n",
       "      <th>device</th>\n",
       "    </tr>\n",
       "  </thead>\n",
       "  <tbody>\n",
       "    <tr>\n",
       "      <th>0</th>\n",
       "      <td>CONTROLLO GLICEMICO GIORNALIERO (2 TEST)</td>\n",
       "      <td>14.0650</td>\n",
       "      <td>2</td>\n",
       "      <td>CATALYST</td>\n",
       "    </tr>\n",
       "    <tr>\n",
       "      <th>1</th>\n",
       "      <td>EMOCROMO CON FORMULA</td>\n",
       "      <td>22.5020</td>\n",
       "      <td>234</td>\n",
       "      <td>LASER</td>\n",
       "    </tr>\n",
       "    <tr>\n",
       "      <th>2</th>\n",
       "      <td>ESAME DELLE URINE</td>\n",
       "      <td>12.0550</td>\n",
       "      <td>57</td>\n",
       "      <td>UA</td>\n",
       "    </tr>\n",
       "    <tr>\n",
       "      <th>3</th>\n",
       "      <td>ESAME DELLE URINE CON SEDIMENTO</td>\n",
       "      <td>20.0925</td>\n",
       "      <td>6</td>\n",
       "      <td>EST</td>\n",
       "    </tr>\n",
       "    <tr>\n",
       "      <th>4</th>\n",
       "      <td>ESAME DELLE URINE PU/CU</td>\n",
       "      <td>25.4500</td>\n",
       "      <td>3</td>\n",
       "      <td>EST</td>\n",
       "    </tr>\n",
       "  </tbody>\n",
       "</table>\n",
       "</div>"
      ],
      "text/plain": [
       "                                    service  mean_charge  count    device\n",
       "0  CONTROLLO GLICEMICO GIORNALIERO (2 TEST)      14.0650      2  CATALYST\n",
       "1                      EMOCROMO CON FORMULA      22.5020    234     LASER\n",
       "2                         ESAME DELLE URINE      12.0550     57        UA\n",
       "3           ESAME DELLE URINE CON SEDIMENTO      20.0925      6       EST\n",
       "4                   ESAME DELLE URINE PU/CU      25.4500      3       EST"
      ]
     },
     "execution_count": 51,
     "metadata": {},
     "output_type": "execute_result"
    }
   ],
   "source": [
    "services_minimum_full = services_minimum.merge(info_analyses, how=\"left\")\n",
    "services_minimum_full.head()"
   ]
  },
  {
   "cell_type": "markdown",
   "metadata": {},
   "source": [
    "The addition of this column allowed to group the services based on their device, and to produce a mean charge and a final count for each. Finally, the total cost for each device was extracted from the `devices_profit` dataframe and added to the table."
   ]
  },
  {
   "cell_type": "code",
   "execution_count": 52,
   "metadata": {
    "scrolled": true
   },
   "outputs": [
    {
     "data": {
      "text/html": [
       "<div>\n",
       "<style scoped>\n",
       "    .dataframe tbody tr th:only-of-type {\n",
       "        vertical-align: middle;\n",
       "    }\n",
       "\n",
       "    .dataframe tbody tr th {\n",
       "        vertical-align: top;\n",
       "    }\n",
       "\n",
       "    .dataframe thead th {\n",
       "        text-align: right;\n",
       "    }\n",
       "</style>\n",
       "<table border=\"1\" class=\"dataframe\">\n",
       "  <thead>\n",
       "    <tr style=\"text-align: right;\">\n",
       "      <th></th>\n",
       "      <th>mean_charge</th>\n",
       "      <th>count</th>\n",
       "      <th>total_cost</th>\n",
       "    </tr>\n",
       "    <tr>\n",
       "      <th>device</th>\n",
       "      <th></th>\n",
       "      <th></th>\n",
       "      <th></th>\n",
       "    </tr>\n",
       "  </thead>\n",
       "  <tbody>\n",
       "    <tr>\n",
       "      <th>CATALYST</th>\n",
       "      <td>26.30</td>\n",
       "      <td>177</td>\n",
       "      <td>5199.76</td>\n",
       "    </tr>\n",
       "    <tr>\n",
       "      <th>COAG</th>\n",
       "      <td>22.10</td>\n",
       "      <td>14</td>\n",
       "      <td>493.48</td>\n",
       "    </tr>\n",
       "    <tr>\n",
       "      <th>EST</th>\n",
       "      <td>25.22</td>\n",
       "      <td>43</td>\n",
       "      <td>892.37</td>\n",
       "    </tr>\n",
       "    <tr>\n",
       "      <th>LASER</th>\n",
       "      <td>22.50</td>\n",
       "      <td>234</td>\n",
       "      <td>1790.04</td>\n",
       "    </tr>\n",
       "    <tr>\n",
       "      <th>SNAP</th>\n",
       "      <td>27.05</td>\n",
       "      <td>159</td>\n",
       "      <td>2263.80</td>\n",
       "    </tr>\n",
       "    <tr>\n",
       "      <th>UA</th>\n",
       "      <td>12.06</td>\n",
       "      <td>57</td>\n",
       "      <td>79.46</td>\n",
       "    </tr>\n",
       "    <tr>\n",
       "      <th>VETMED</th>\n",
       "      <td>80.36</td>\n",
       "      <td>8</td>\n",
       "      <td>591.45</td>\n",
       "    </tr>\n",
       "  </tbody>\n",
       "</table>\n",
       "</div>"
      ],
      "text/plain": [
       "          mean_charge  count  total_cost\n",
       "device                                  \n",
       "CATALYST        26.30    177     5199.76\n",
       "COAG            22.10     14      493.48\n",
       "EST             25.22     43      892.37\n",
       "LASER           22.50    234     1790.04\n",
       "SNAP            27.05    159     2263.80\n",
       "UA              12.06     57       79.46\n",
       "VETMED          80.36      8      591.45"
      ]
     },
     "execution_count": 52,
     "metadata": {},
     "output_type": "execute_result"
    }
   ],
   "source": [
    "grouped_prices_mean = round(services_minimum_full.groupby(\"device\")[\"mean_charge\"].mean(), 2)\n",
    "grouped_services_count = services_minimum_full.groupby(\"device\")[\"count\"].sum()\n",
    "\n",
    "grouped_minimum = pd.concat([grouped_prices_mean, grouped_services_count], axis=1, sort=False)\n",
    "grouped_minimum[\"total_cost\"] = round(devices_profit[\"total_cost\"], 2)\n",
    "grouped_minimum"
   ]
  },
  {
   "cell_type": "markdown",
   "metadata": {},
   "source": [
    "#### Results\n",
    "\n",
    "Two columns were added to the table to allow comparison between actual charges and minimum charges required to cover costs:\n",
    "\n",
    "- **minimum_charge**: the minimum charge required to cover device costs, found by dividing the total cost for the device by the number of times it was used;\n",
    "- **difference**: the mean price charged minus the minimum charge necessary to cover cost. Negative values indicate that the analysis is being sold at a loss."
   ]
  },
  {
   "cell_type": "code",
   "execution_count": 53,
   "metadata": {},
   "outputs": [
    {
     "data": {
      "text/html": [
       "<div>\n",
       "<style scoped>\n",
       "    .dataframe tbody tr th:only-of-type {\n",
       "        vertical-align: middle;\n",
       "    }\n",
       "\n",
       "    .dataframe tbody tr th {\n",
       "        vertical-align: top;\n",
       "    }\n",
       "\n",
       "    .dataframe thead th {\n",
       "        text-align: right;\n",
       "    }\n",
       "</style>\n",
       "<table border=\"1\" class=\"dataframe\">\n",
       "  <thead>\n",
       "    <tr style=\"text-align: right;\">\n",
       "      <th></th>\n",
       "      <th>mean_charge</th>\n",
       "      <th>count</th>\n",
       "      <th>total_cost</th>\n",
       "      <th>minimum_charge</th>\n",
       "      <th>difference</th>\n",
       "    </tr>\n",
       "    <tr>\n",
       "      <th>device</th>\n",
       "      <th></th>\n",
       "      <th></th>\n",
       "      <th></th>\n",
       "      <th></th>\n",
       "      <th></th>\n",
       "    </tr>\n",
       "  </thead>\n",
       "  <tbody>\n",
       "    <tr>\n",
       "      <th>CATALYST</th>\n",
       "      <td>26.30</td>\n",
       "      <td>177</td>\n",
       "      <td>5199.76</td>\n",
       "      <td>29.38</td>\n",
       "      <td>-3.08</td>\n",
       "    </tr>\n",
       "    <tr>\n",
       "      <th>COAG</th>\n",
       "      <td>22.10</td>\n",
       "      <td>14</td>\n",
       "      <td>493.48</td>\n",
       "      <td>35.25</td>\n",
       "      <td>-13.15</td>\n",
       "    </tr>\n",
       "    <tr>\n",
       "      <th>EST</th>\n",
       "      <td>25.22</td>\n",
       "      <td>43</td>\n",
       "      <td>892.37</td>\n",
       "      <td>20.75</td>\n",
       "      <td>4.47</td>\n",
       "    </tr>\n",
       "    <tr>\n",
       "      <th>LASER</th>\n",
       "      <td>22.50</td>\n",
       "      <td>234</td>\n",
       "      <td>1790.04</td>\n",
       "      <td>7.65</td>\n",
       "      <td>14.85</td>\n",
       "    </tr>\n",
       "    <tr>\n",
       "      <th>SNAP</th>\n",
       "      <td>27.05</td>\n",
       "      <td>159</td>\n",
       "      <td>2263.80</td>\n",
       "      <td>14.24</td>\n",
       "      <td>12.81</td>\n",
       "    </tr>\n",
       "    <tr>\n",
       "      <th>UA</th>\n",
       "      <td>12.06</td>\n",
       "      <td>57</td>\n",
       "      <td>79.46</td>\n",
       "      <td>1.39</td>\n",
       "      <td>10.67</td>\n",
       "    </tr>\n",
       "    <tr>\n",
       "      <th>VETMED</th>\n",
       "      <td>80.36</td>\n",
       "      <td>8</td>\n",
       "      <td>591.45</td>\n",
       "      <td>73.93</td>\n",
       "      <td>6.43</td>\n",
       "    </tr>\n",
       "  </tbody>\n",
       "</table>\n",
       "</div>"
      ],
      "text/plain": [
       "          mean_charge  count  total_cost  minimum_charge  difference\n",
       "device                                                              \n",
       "CATALYST        26.30    177     5199.76           29.38       -3.08\n",
       "COAG            22.10     14      493.48           35.25      -13.15\n",
       "EST             25.22     43      892.37           20.75        4.47\n",
       "LASER           22.50    234     1790.04            7.65       14.85\n",
       "SNAP            27.05    159     2263.80           14.24       12.81\n",
       "UA              12.06     57       79.46            1.39       10.67\n",
       "VETMED          80.36      8      591.45           73.93        6.43"
      ]
     },
     "execution_count": 53,
     "metadata": {},
     "output_type": "execute_result"
    }
   ],
   "source": [
    "grouped_minimum[\"minimum_charge\"] = round(grouped_minimum[\"total_cost\"] / grouped_minimum[\"count\"], 2)\n",
    "grouped_minimum[\"difference\"] = grouped_minimum[\"mean_charge\"] - grouped_minimum[\"minimum_charge\"]\n",
    "grouped_minimum"
   ]
  },
  {
   "cell_type": "markdown",
   "metadata": {},
   "source": [
    "#### Graphical representation\n",
    "\n",
    "The graph below represents the results obtained in the `grouped_minimum` table above. The values obtained need to be taken with a grain of salt for the devices that are used for many different types of analyses. As shown before, these are the CATALYST, the EST and the SNAP, which respectively run 11, 8 and 5 different types of analyses. Seen as these are sometimes priced very differently, finding a minimum charge based on the overall cost of running the entire device would not be accurate, but could still be indicative of a problem in case of a prominently negative value.\n",
    "\n",
    "On the other hand, the calculation is accurate for single-analysis devices, i.e. the LASER, the COAG, VETMED and the UA. With the exception of the COAG, we can see that all the mean charged prices are well above the minimum charge necessary to cover costs, and indeed these devices all produced positive profits.\n",
    "\n",
    "The highly negative result of the COAG, instead, is consistent with the loss identified in the profit analysis, and it shows how the loss is in part linked to the fact that running each analysis costs on average EUR 13.15 more than what the client is charged."
   ]
  },
  {
   "cell_type": "code",
   "execution_count": 54,
   "metadata": {
    "scrolled": false
   },
   "outputs": [
    {
     "data": {
      "image/png": "[encoded data removed]",
      "text/plain": [
       "<Figure size 720x720 with 1 Axes>"
      ]
     },
     "metadata": {
      "needs_background": "light"
     },
     "output_type": "display_data"
    }
   ],
   "source": [
    "fig, ax = plt.subplots(figsize=(10,10))\n",
    "g = sns.barplot(data=grouped_minimum, x=grouped_minimum.index, y=\"difference\", ax=ax)\n",
    "g.set(ylabel = \"Mean charge minus minimum charge (EUR)\", xlabel=\"\")\n",
    "plt.show()"
   ]
  },
  {
   "cell_type": "markdown",
   "metadata": {},
   "source": [
    "## Conclusion\n",
    "\n",
    "These results were presented to the clinic manager in the form of an in-person explanation of the conclusions reached, along with graphical visualisations, i.e. the plots previously produced. Upon contacting them at a later date I was informed that, in the light of the results obtained by this investigation, two decisions were made:\n",
    "\n",
    "- The COAG device is currently operating at a loss: since it is not viable for the clinic to raise the existing charges, it was decided that the analysis related to it will be outsourced to an external laboratory from now on;\n",
    "- The current CATALYST device, which had been purchased by the clinic a few years ago, has the highest proceeds among all the devices, but also the highest running cost: in the future, it will be substituted by a similar one, which will be instead on loan for use. According to the manager's research, this would help bring down the price of materials and maintenance, widening the gap between the device's proceeds and costs, and raising the currently thin profit margin.\n",
    "\n",
    "Overall, the clinic manager was happy with the insight provided by the investigation, not only because it allowed them to adjust situations in which they were operating at a loss, but also because they were able to appreciate the processes that are running properly, and understand at a glance how this side of their business is performing."
   ]
  }
 ],
 "metadata": {
  "kernelspec": {
   "display_name": "Python 3",
   "language": "python",
   "name": "python3"
  },
  "language_info": {
   "codemirror_mode": {
    "name": "ipython",
    "version": 3
   },
   "file_extension": ".py",
   "mimetype": "text/x-python",
   "name": "python",
   "nbconvert_exporter": "python",
   "pygments_lexer": "ipython3",
   "version": "3.7.3"
  },
  "toc": {
   "base_numbering": 1,
   "nav_menu": {},
   "number_sections": false,
   "sideBar": true,
   "skip_h1_title": false,
   "title_cell": "Table of Contents",
   "title_sidebar": "Contents",
   "toc_cell": false,
   "toc_position": {
    "height": "555.455px",
    "left": "42px",
    "top": "175.305px",
    "width": "272.706px"
   },
   "toc_section_display": true,
   "toc_window_display": true
  }
 },
 "nbformat": 4,
 "nbformat_minor": 2
}
